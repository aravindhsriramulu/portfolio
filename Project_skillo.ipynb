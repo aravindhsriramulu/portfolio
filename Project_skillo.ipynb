{
 "cells": [
  {
   "cell_type": "code",
   "execution_count": 1,
   "metadata": {
    "colab": {},
    "colab_type": "code",
    "id": "_6CxjvFOWmLJ",
    "outputId": "5c189647-9a3a-4775-da1b-1bf6b2a0fba9"
   },
   "outputs": [],
   "source": [
    "import pandas as pd\n",
    "import numpy as np\n",
    "from sklearn import preprocessing\n",
    "import matplotlib.pyplot as plt \n",
    "plt.rc(\"font\", size=14)\n",
    "from sklearn.linear_model import LinearRegression\n",
    "from sklearn.model_selection import train_test_split\n",
    "import seaborn as sns\n",
    "import numpy as np\n",
    "import matplotlib.pyplot as plt\n",
    "import sys\n",
    "from sklearn.linear_model import LogisticRegression\n",
    "from sklearn.preprocessing import StandardScaler\n",
    "from sklearn.feature_selection import RFE\n",
    "from sklearn.model_selection import train_test_split\n",
    "from sklearn.preprocessing import OrdinalEncoder\n",
    "from sklearn.preprocessing import OneHotEncoder\n",
    "from sklearn.preprocessing import LabelEncoder\n",
    "from sklearn.compose import ColumnTransformer\n",
    "from sklearn.pipeline import Pipeline\n",
    "from sklearn.impute import SimpleImputer\n",
    "from collections import Counter\n",
    "from imblearn import under_sampling, over_sampling\n",
    "from imblearn.over_sampling import SMOTE\n",
    "sns.set(style=\"white\")\n",
    "sns.set(style=\"whitegrid\", color_codes=True)"
   ]
  },
  {
   "cell_type": "markdown",
   "metadata": {
    "colab_type": "text",
    "id": "T5J8eCE-WmLP"
   },
   "source": [
    "## Data\n",
    "\n",
    "The data is related with direct marketing campaigns (phone calls) of a Portuguese banking institution. The classification goal is to predict if the client will subscribe (1/0) a term deposit (variable y)."
   ]
  },
  {
   "cell_type": "markdown",
   "metadata": {
    "colab_type": "text",
    "id": "6vvy7XkvWmLQ"
   },
   "source": [
    "This dataset provides the customer information. It includes 41188 records and 21 fields."
   ]
  },
  {
   "cell_type": "code",
   "execution_count": 2,
   "metadata": {},
   "outputs": [
    {
     "data": {
      "text/plain": [
       "(4119, 21)"
      ]
     },
     "execution_count": 2,
     "metadata": {},
     "output_type": "execute_result"
    }
   ],
   "source": [
    "data = pd.read_csv(r'D:\\Excess\\skillovilla\\Project\\ML Project\\bank.csv')\n",
    "data.shape"
   ]
  },
  {
   "cell_type": "code",
   "execution_count": 3,
   "metadata": {
    "colab": {},
    "colab_type": "code",
    "id": "_wv3pwYRWmLQ",
    "outputId": "d662316c-9378-480b-98d3-c02a3f00d948"
   },
   "outputs": [],
   "source": [
    "### Q. Read the bank dataset "
   ]
  },
  {
   "cell_type": "code",
   "execution_count": 4,
   "metadata": {},
   "outputs": [
    {
     "data": {
      "text/html": [
       "<div>\n",
       "<style scoped>\n",
       "    .dataframe tbody tr th:only-of-type {\n",
       "        vertical-align: middle;\n",
       "    }\n",
       "\n",
       "    .dataframe tbody tr th {\n",
       "        vertical-align: top;\n",
       "    }\n",
       "\n",
       "    .dataframe thead th {\n",
       "        text-align: right;\n",
       "    }\n",
       "</style>\n",
       "<table border=\"1\" class=\"dataframe\">\n",
       "  <thead>\n",
       "    <tr style=\"text-align: right;\">\n",
       "      <th></th>\n",
       "      <th>age</th>\n",
       "      <th>job</th>\n",
       "      <th>marital</th>\n",
       "      <th>education</th>\n",
       "      <th>default</th>\n",
       "      <th>housing</th>\n",
       "      <th>loan</th>\n",
       "      <th>contact</th>\n",
       "      <th>month</th>\n",
       "      <th>day_of_week</th>\n",
       "      <th>...</th>\n",
       "      <th>campaign</th>\n",
       "      <th>pdays</th>\n",
       "      <th>previous</th>\n",
       "      <th>poutcome</th>\n",
       "      <th>emp.var.rate</th>\n",
       "      <th>cons.price.idx</th>\n",
       "      <th>cons.conf.idx</th>\n",
       "      <th>euribor3m</th>\n",
       "      <th>nr.employed</th>\n",
       "      <th>y</th>\n",
       "    </tr>\n",
       "  </thead>\n",
       "  <tbody>\n",
       "    <tr>\n",
       "      <th>0</th>\n",
       "      <td>30</td>\n",
       "      <td>blue-collar</td>\n",
       "      <td>married</td>\n",
       "      <td>basic.9y</td>\n",
       "      <td>no</td>\n",
       "      <td>yes</td>\n",
       "      <td>no</td>\n",
       "      <td>cellular</td>\n",
       "      <td>may</td>\n",
       "      <td>fri</td>\n",
       "      <td>...</td>\n",
       "      <td>2</td>\n",
       "      <td>999</td>\n",
       "      <td>0</td>\n",
       "      <td>nonexistent</td>\n",
       "      <td>-1.8</td>\n",
       "      <td>92.893</td>\n",
       "      <td>-46.2</td>\n",
       "      <td>1.313</td>\n",
       "      <td>5099.1</td>\n",
       "      <td>no</td>\n",
       "    </tr>\n",
       "    <tr>\n",
       "      <th>1</th>\n",
       "      <td>39</td>\n",
       "      <td>services</td>\n",
       "      <td>single</td>\n",
       "      <td>high.school</td>\n",
       "      <td>no</td>\n",
       "      <td>no</td>\n",
       "      <td>no</td>\n",
       "      <td>telephone</td>\n",
       "      <td>may</td>\n",
       "      <td>fri</td>\n",
       "      <td>...</td>\n",
       "      <td>4</td>\n",
       "      <td>999</td>\n",
       "      <td>0</td>\n",
       "      <td>nonexistent</td>\n",
       "      <td>1.1</td>\n",
       "      <td>93.994</td>\n",
       "      <td>-36.4</td>\n",
       "      <td>4.855</td>\n",
       "      <td>5191.0</td>\n",
       "      <td>no</td>\n",
       "    </tr>\n",
       "    <tr>\n",
       "      <th>2</th>\n",
       "      <td>25</td>\n",
       "      <td>services</td>\n",
       "      <td>married</td>\n",
       "      <td>high.school</td>\n",
       "      <td>no</td>\n",
       "      <td>yes</td>\n",
       "      <td>no</td>\n",
       "      <td>telephone</td>\n",
       "      <td>jun</td>\n",
       "      <td>wed</td>\n",
       "      <td>...</td>\n",
       "      <td>1</td>\n",
       "      <td>999</td>\n",
       "      <td>0</td>\n",
       "      <td>nonexistent</td>\n",
       "      <td>1.4</td>\n",
       "      <td>94.465</td>\n",
       "      <td>-41.8</td>\n",
       "      <td>4.962</td>\n",
       "      <td>5228.1</td>\n",
       "      <td>no</td>\n",
       "    </tr>\n",
       "    <tr>\n",
       "      <th>3</th>\n",
       "      <td>38</td>\n",
       "      <td>services</td>\n",
       "      <td>married</td>\n",
       "      <td>basic.9y</td>\n",
       "      <td>no</td>\n",
       "      <td>unknown</td>\n",
       "      <td>unknown</td>\n",
       "      <td>telephone</td>\n",
       "      <td>jun</td>\n",
       "      <td>fri</td>\n",
       "      <td>...</td>\n",
       "      <td>3</td>\n",
       "      <td>999</td>\n",
       "      <td>0</td>\n",
       "      <td>nonexistent</td>\n",
       "      <td>1.4</td>\n",
       "      <td>94.465</td>\n",
       "      <td>-41.8</td>\n",
       "      <td>4.959</td>\n",
       "      <td>5228.1</td>\n",
       "      <td>no</td>\n",
       "    </tr>\n",
       "    <tr>\n",
       "      <th>4</th>\n",
       "      <td>47</td>\n",
       "      <td>admin.</td>\n",
       "      <td>married</td>\n",
       "      <td>university.degree</td>\n",
       "      <td>no</td>\n",
       "      <td>yes</td>\n",
       "      <td>no</td>\n",
       "      <td>cellular</td>\n",
       "      <td>nov</td>\n",
       "      <td>mon</td>\n",
       "      <td>...</td>\n",
       "      <td>1</td>\n",
       "      <td>999</td>\n",
       "      <td>0</td>\n",
       "      <td>nonexistent</td>\n",
       "      <td>-0.1</td>\n",
       "      <td>93.200</td>\n",
       "      <td>-42.0</td>\n",
       "      <td>4.191</td>\n",
       "      <td>5195.8</td>\n",
       "      <td>no</td>\n",
       "    </tr>\n",
       "  </tbody>\n",
       "</table>\n",
       "<p>5 rows × 21 columns</p>\n",
       "</div>"
      ],
      "text/plain": [
       "   age          job  marital          education default  housing     loan  \\\n",
       "0   30  blue-collar  married           basic.9y      no      yes       no   \n",
       "1   39     services   single        high.school      no       no       no   \n",
       "2   25     services  married        high.school      no      yes       no   \n",
       "3   38     services  married           basic.9y      no  unknown  unknown   \n",
       "4   47       admin.  married  university.degree      no      yes       no   \n",
       "\n",
       "     contact month day_of_week  ...  campaign  pdays  previous     poutcome  \\\n",
       "0   cellular   may         fri  ...         2    999         0  nonexistent   \n",
       "1  telephone   may         fri  ...         4    999         0  nonexistent   \n",
       "2  telephone   jun         wed  ...         1    999         0  nonexistent   \n",
       "3  telephone   jun         fri  ...         3    999         0  nonexistent   \n",
       "4   cellular   nov         mon  ...         1    999         0  nonexistent   \n",
       "\n",
       "  emp.var.rate  cons.price.idx  cons.conf.idx  euribor3m  nr.employed   y  \n",
       "0         -1.8          92.893          -46.2      1.313       5099.1  no  \n",
       "1          1.1          93.994          -36.4      4.855       5191.0  no  \n",
       "2          1.4          94.465          -41.8      4.962       5228.1  no  \n",
       "3          1.4          94.465          -41.8      4.959       5228.1  no  \n",
       "4         -0.1          93.200          -42.0      4.191       5195.8  no  \n",
       "\n",
       "[5 rows x 21 columns]"
      ]
     },
     "execution_count": 4,
     "metadata": {},
     "output_type": "execute_result"
    }
   ],
   "source": [
    "data.head()"
   ]
  },
  {
   "cell_type": "code",
   "execution_count": 5,
   "metadata": {
    "colab": {},
    "colab_type": "code",
    "id": "-YJx5FZdWmLU",
    "outputId": "ebc68220-7702-4e6b-d4e2-10164e8f22c9"
   },
   "outputs": [
    {
     "data": {
      "text/html": [
       "<div>\n",
       "<style scoped>\n",
       "    .dataframe tbody tr th:only-of-type {\n",
       "        vertical-align: middle;\n",
       "    }\n",
       "\n",
       "    .dataframe tbody tr th {\n",
       "        vertical-align: top;\n",
       "    }\n",
       "\n",
       "    .dataframe thead th {\n",
       "        text-align: right;\n",
       "    }\n",
       "</style>\n",
       "<table border=\"1\" class=\"dataframe\">\n",
       "  <thead>\n",
       "    <tr style=\"text-align: right;\">\n",
       "      <th></th>\n",
       "      <th>age</th>\n",
       "      <th>job</th>\n",
       "      <th>marital</th>\n",
       "      <th>education</th>\n",
       "      <th>default</th>\n",
       "      <th>housing</th>\n",
       "      <th>loan</th>\n",
       "      <th>contact</th>\n",
       "      <th>month</th>\n",
       "      <th>day_of_week</th>\n",
       "      <th>...</th>\n",
       "      <th>campaign</th>\n",
       "      <th>pdays</th>\n",
       "      <th>previous</th>\n",
       "      <th>poutcome</th>\n",
       "      <th>emp.var.rate</th>\n",
       "      <th>cons.price.idx</th>\n",
       "      <th>cons.conf.idx</th>\n",
       "      <th>euribor3m</th>\n",
       "      <th>nr.employed</th>\n",
       "      <th>y</th>\n",
       "    </tr>\n",
       "  </thead>\n",
       "  <tbody>\n",
       "    <tr>\n",
       "      <th>0</th>\n",
       "      <td>30</td>\n",
       "      <td>blue-collar</td>\n",
       "      <td>married</td>\n",
       "      <td>basic.9y</td>\n",
       "      <td>no</td>\n",
       "      <td>yes</td>\n",
       "      <td>no</td>\n",
       "      <td>cellular</td>\n",
       "      <td>may</td>\n",
       "      <td>fri</td>\n",
       "      <td>...</td>\n",
       "      <td>2</td>\n",
       "      <td>999</td>\n",
       "      <td>0</td>\n",
       "      <td>nonexistent</td>\n",
       "      <td>-1.8</td>\n",
       "      <td>92.893</td>\n",
       "      <td>-46.2</td>\n",
       "      <td>1.313</td>\n",
       "      <td>5099.1</td>\n",
       "      <td>no</td>\n",
       "    </tr>\n",
       "    <tr>\n",
       "      <th>1</th>\n",
       "      <td>39</td>\n",
       "      <td>services</td>\n",
       "      <td>single</td>\n",
       "      <td>high.school</td>\n",
       "      <td>no</td>\n",
       "      <td>no</td>\n",
       "      <td>no</td>\n",
       "      <td>telephone</td>\n",
       "      <td>may</td>\n",
       "      <td>fri</td>\n",
       "      <td>...</td>\n",
       "      <td>4</td>\n",
       "      <td>999</td>\n",
       "      <td>0</td>\n",
       "      <td>nonexistent</td>\n",
       "      <td>1.1</td>\n",
       "      <td>93.994</td>\n",
       "      <td>-36.4</td>\n",
       "      <td>4.855</td>\n",
       "      <td>5191.0</td>\n",
       "      <td>no</td>\n",
       "    </tr>\n",
       "    <tr>\n",
       "      <th>2</th>\n",
       "      <td>25</td>\n",
       "      <td>services</td>\n",
       "      <td>married</td>\n",
       "      <td>high.school</td>\n",
       "      <td>no</td>\n",
       "      <td>yes</td>\n",
       "      <td>no</td>\n",
       "      <td>telephone</td>\n",
       "      <td>jun</td>\n",
       "      <td>wed</td>\n",
       "      <td>...</td>\n",
       "      <td>1</td>\n",
       "      <td>999</td>\n",
       "      <td>0</td>\n",
       "      <td>nonexistent</td>\n",
       "      <td>1.4</td>\n",
       "      <td>94.465</td>\n",
       "      <td>-41.8</td>\n",
       "      <td>4.962</td>\n",
       "      <td>5228.1</td>\n",
       "      <td>no</td>\n",
       "    </tr>\n",
       "    <tr>\n",
       "      <th>3</th>\n",
       "      <td>38</td>\n",
       "      <td>services</td>\n",
       "      <td>married</td>\n",
       "      <td>basic.9y</td>\n",
       "      <td>no</td>\n",
       "      <td>unknown</td>\n",
       "      <td>unknown</td>\n",
       "      <td>telephone</td>\n",
       "      <td>jun</td>\n",
       "      <td>fri</td>\n",
       "      <td>...</td>\n",
       "      <td>3</td>\n",
       "      <td>999</td>\n",
       "      <td>0</td>\n",
       "      <td>nonexistent</td>\n",
       "      <td>1.4</td>\n",
       "      <td>94.465</td>\n",
       "      <td>-41.8</td>\n",
       "      <td>4.959</td>\n",
       "      <td>5228.1</td>\n",
       "      <td>no</td>\n",
       "    </tr>\n",
       "    <tr>\n",
       "      <th>4</th>\n",
       "      <td>47</td>\n",
       "      <td>admin.</td>\n",
       "      <td>married</td>\n",
       "      <td>university.degree</td>\n",
       "      <td>no</td>\n",
       "      <td>yes</td>\n",
       "      <td>no</td>\n",
       "      <td>cellular</td>\n",
       "      <td>nov</td>\n",
       "      <td>mon</td>\n",
       "      <td>...</td>\n",
       "      <td>1</td>\n",
       "      <td>999</td>\n",
       "      <td>0</td>\n",
       "      <td>nonexistent</td>\n",
       "      <td>-0.1</td>\n",
       "      <td>93.200</td>\n",
       "      <td>-42.0</td>\n",
       "      <td>4.191</td>\n",
       "      <td>5195.8</td>\n",
       "      <td>no</td>\n",
       "    </tr>\n",
       "  </tbody>\n",
       "</table>\n",
       "<p>5 rows × 21 columns</p>\n",
       "</div>"
      ],
      "text/plain": [
       "   age          job  marital          education default  housing     loan  \\\n",
       "0   30  blue-collar  married           basic.9y      no      yes       no   \n",
       "1   39     services   single        high.school      no       no       no   \n",
       "2   25     services  married        high.school      no      yes       no   \n",
       "3   38     services  married           basic.9y      no  unknown  unknown   \n",
       "4   47       admin.  married  university.degree      no      yes       no   \n",
       "\n",
       "     contact month day_of_week  ...  campaign  pdays  previous     poutcome  \\\n",
       "0   cellular   may         fri  ...         2    999         0  nonexistent   \n",
       "1  telephone   may         fri  ...         4    999         0  nonexistent   \n",
       "2  telephone   jun         wed  ...         1    999         0  nonexistent   \n",
       "3  telephone   jun         fri  ...         3    999         0  nonexistent   \n",
       "4   cellular   nov         mon  ...         1    999         0  nonexistent   \n",
       "\n",
       "  emp.var.rate  cons.price.idx  cons.conf.idx  euribor3m  nr.employed   y  \n",
       "0         -1.8          92.893          -46.2      1.313       5099.1  no  \n",
       "1          1.1          93.994          -36.4      4.855       5191.0  no  \n",
       "2          1.4          94.465          -41.8      4.962       5228.1  no  \n",
       "3          1.4          94.465          -41.8      4.959       5228.1  no  \n",
       "4         -0.1          93.200          -42.0      4.191       5195.8  no  \n",
       "\n",
       "[5 rows x 21 columns]"
      ]
     },
     "execution_count": 5,
     "metadata": {},
     "output_type": "execute_result"
    }
   ],
   "source": [
    "data.head()"
   ]
  },
  {
   "cell_type": "markdown",
   "metadata": {
    "colab_type": "text",
    "id": "7cK4SK3eWmLX"
   },
   "source": [
    "#### Input variables"
   ]
  },
  {
   "cell_type": "markdown",
   "metadata": {
    "colab_type": "text",
    "id": "N51WwwIAWmLY"
   },
   "source": [
    "1 - age (numeric)\n",
    "\n",
    "2 - job : type of job (categorical: 'admin.','blue-collar','entrepreneur','housemaid','management','retired','self-employed','services','student','technician','unemployed','unknown')\n",
    "\n",
    "3 - marital : marital status (categorical: 'divorced','married','single','unknown'; note: 'divorced' means divorced or widowed)\n",
    "\n",
    "4 - education (categorical: 'basic.4y','basic.6y','basic.9y','high.school','illiterate','professional.course','university.degree','unknown')\n",
    "\n",
    "5 - default: has credit in default? (categorical: 'no','yes','unknown')\n",
    "\n",
    "6 - housing: has housing loan? (categorical: 'no','yes','unknown')\n",
    "\n",
    "7 - loan: has personal loan? (categorical: 'no','yes','unknown')\n",
    "\n",
    "8 - contact: contact communication type (categorical: 'cellular','telephone')\n",
    "\n",
    "9 - month: last contact month of year (categorical: 'jan', 'feb', 'mar', ..., 'nov', 'dec')\n",
    "\n",
    "10 - day_of_week: last contact day of the week (categorical: 'mon','tue','wed','thu','fri')\n",
    "\n",
    "11 - duration: last contact duration, in seconds (numeric). Important note: this attribute highly affects the output target (e.g., if duration=0 then y='no'). Yet, the duration is not known before a call is performed. Also, after the end of the call y is obviously known. Thus, this input should only be included for benchmark purposes and should be discarded if the intention is to have a realistic predictive model.\n",
    "\n",
    "12 - campaign: number of contacts performed during this campaign and for this client (numeric, includes last contact)\n",
    "\n",
    "13 - pdays: number of days that passed by after the client was last contacted from a previous campaign (numeric; 999 means client was not previously contacted)\n",
    "\n",
    "14 - previous: number of contacts performed before this campaign and for this client (numeric)\n",
    "\n",
    "15 - poutcome: outcome of the previous marketing campaign (categorical: 'failure','nonexistent','success')\n",
    "\n",
    "16 - emp.var.rate: employment variation rate - (numeric)\n",
    "\n",
    "17 - cons.price.idx: consumer price index - (numeric)\n",
    "\n",
    "18 - cons.conf.idx: consumer confidence index - (numeric) \n",
    "\n",
    "19 - euribor3m: euribor 3 month rate - (numeric)\n",
    "\n",
    "20 - nr.employed: number of employees - (numeric)"
   ]
  },
  {
   "cell_type": "markdown",
   "metadata": {
    "colab_type": "text",
    "id": "eGzc4qFoWmLa"
   },
   "source": [
    "#### Predict variable (desired target):\n",
    "\n",
    "y - has the client subscribed a term deposit? (binary: '1','0')"
   ]
  },
  {
   "cell_type": "markdown",
   "metadata": {
    "colab_type": "text",
    "id": "N0Mjkw4FWmLb"
   },
   "source": [
    "The education column of the dataset has many categories and we need to reduce the categories for a better modelling. The education column has the following categories:"
   ]
  },
  {
   "cell_type": "code",
   "execution_count": 6,
   "metadata": {},
   "outputs": [
    {
     "data": {
      "text/plain": [
       "array(['basic.9y', 'high.school', 'university.degree',\n",
       "       'professional.course', 'basic.6y', 'basic.4y', 'unknown',\n",
       "       'illiterate'], dtype=object)"
      ]
     },
     "execution_count": 6,
     "metadata": {},
     "output_type": "execute_result"
    }
   ],
   "source": [
    "### Data transformation\n",
    "data['education'].unique()"
   ]
  },
  {
   "cell_type": "code",
   "execution_count": 7,
   "metadata": {
    "colab": {},
    "colab_type": "code",
    "id": "dhDl4VKDWmLc",
    "outputId": "cf4da247-3e3b-448c-9d19-3f301d3ea6c4"
   },
   "outputs": [
    {
     "data": {
      "text/plain": [
       "array(['basic.9y', 'high.school', 'university.degree',\n",
       "       'professional.course', 'basic.6y', 'basic.4y', 'unknown',\n",
       "       'illiterate'], dtype=object)"
      ]
     },
     "execution_count": 7,
     "metadata": {},
     "output_type": "execute_result"
    }
   ],
   "source": [
    "### Data transformation\n",
    "data['education'].unique()"
   ]
  },
  {
   "cell_type": "markdown",
   "metadata": {
    "colab_type": "text",
    "id": "dOgpCPZVWmLe"
   },
   "source": [
    "Let us group \"basic.4y\", \"basic.9y\" and \"basic.6y\" together and call them \"basic\"."
   ]
  },
  {
   "cell_type": "code",
   "execution_count": 8,
   "metadata": {},
   "outputs": [],
   "source": [
    "data['education']=np.where(data['education'] =='basic.9y', 'Basic', data['education'])\n",
    "data['education']=np.where(data['education'] =='basic.6y', 'Basic', data['education'])\n",
    "data['education']=np.where(data['education'] =='basic.4y', 'Basic', data['education'])"
   ]
  },
  {
   "cell_type": "code",
   "execution_count": 9,
   "metadata": {
    "colab": {},
    "colab_type": "code",
    "id": "OETWcqugWmLf"
   },
   "outputs": [],
   "source": [
    "data['education']=np.where(data['education'] =='basic.9y', 'Basic', data['education'])\n",
    "data['education']=np.where(data['education'] =='basic.6y', 'Basic', data['education'])\n",
    "data['education']=np.where(data['education'] =='basic.4y', 'Basic', data['education'])"
   ]
  },
  {
   "cell_type": "markdown",
   "metadata": {
    "colab_type": "text",
    "id": "h0nx76N-WmLh"
   },
   "source": [
    "After grouping, this is the columns"
   ]
  },
  {
   "cell_type": "code",
   "execution_count": 10,
   "metadata": {},
   "outputs": [
    {
     "data": {
      "text/plain": [
       "array(['Basic', 'high.school', 'university.degree', 'professional.course',\n",
       "       'unknown', 'illiterate'], dtype=object)"
      ]
     },
     "execution_count": 10,
     "metadata": {},
     "output_type": "execute_result"
    }
   ],
   "source": [
    "data['education'].unique()"
   ]
  },
  {
   "cell_type": "code",
   "execution_count": 11,
   "metadata": {
    "colab": {},
    "colab_type": "code",
    "id": "f7PHjMVLWmLi",
    "outputId": "6d02e239-0635-42ba-b2f4-d055f7486a28"
   },
   "outputs": [
    {
     "data": {
      "text/plain": [
       "array(['Basic', 'high.school', 'university.degree', 'professional.course',\n",
       "       'unknown', 'illiterate'], dtype=object)"
      ]
     },
     "execution_count": 11,
     "metadata": {},
     "output_type": "execute_result"
    }
   ],
   "source": [
    "data['education'].unique()"
   ]
  },
  {
   "cell_type": "code",
   "execution_count": null,
   "metadata": {
    "colab": {},
    "colab_type": "code",
    "id": "aVCr5yJtXE_j"
   },
   "outputs": [],
   "source": []
  },
  {
   "cell_type": "code",
   "execution_count": null,
   "metadata": {},
   "outputs": [],
   "source": []
  },
  {
   "cell_type": "markdown",
   "metadata": {},
   "source": []
  },
  {
   "cell_type": "markdown",
   "metadata": {},
   "source": [
    "### Data preparation"
   ]
  },
  {
   "cell_type": "code",
   "execution_count": 12,
   "metadata": {},
   "outputs": [
    {
     "data": {
      "image/png": "[encoded data removed]",
      "text/plain": [
       "<Figure size 432x288 with 1 Axes>"
      ]
     },
     "metadata": {},
     "output_type": "display_data"
    }
   ],
   "source": [
    "# count plot on single categorical variable\n",
    "sns.countplot(x ='y', data = data)\n",
    " \n",
    "# Show the plot\n",
    "plt.show()"
   ]
  },
  {
   "cell_type": "code",
   "execution_count": 13,
   "metadata": {},
   "outputs": [
    {
     "data": {
      "text/html": [
       "<div>\n",
       "<style scoped>\n",
       "    .dataframe tbody tr th:only-of-type {\n",
       "        vertical-align: middle;\n",
       "    }\n",
       "\n",
       "    .dataframe tbody tr th {\n",
       "        vertical-align: top;\n",
       "    }\n",
       "\n",
       "    .dataframe thead th {\n",
       "        text-align: right;\n",
       "    }\n",
       "</style>\n",
       "<table border=\"1\" class=\"dataframe\">\n",
       "  <thead>\n",
       "    <tr style=\"text-align: right;\">\n",
       "      <th></th>\n",
       "      <th>age</th>\n",
       "      <th>job</th>\n",
       "      <th>marital</th>\n",
       "      <th>education</th>\n",
       "      <th>default</th>\n",
       "      <th>housing</th>\n",
       "      <th>loan</th>\n",
       "      <th>contact</th>\n",
       "      <th>month</th>\n",
       "      <th>day_of_week</th>\n",
       "      <th>...</th>\n",
       "      <th>campaign</th>\n",
       "      <th>pdays</th>\n",
       "      <th>previous</th>\n",
       "      <th>poutcome</th>\n",
       "      <th>emp.var.rate</th>\n",
       "      <th>cons.price.idx</th>\n",
       "      <th>cons.conf.idx</th>\n",
       "      <th>euribor3m</th>\n",
       "      <th>nr.employed</th>\n",
       "      <th>y</th>\n",
       "    </tr>\n",
       "  </thead>\n",
       "  <tbody>\n",
       "    <tr>\n",
       "      <th>0</th>\n",
       "      <td>30</td>\n",
       "      <td>blue-collar</td>\n",
       "      <td>married</td>\n",
       "      <td>Basic</td>\n",
       "      <td>0</td>\n",
       "      <td>1</td>\n",
       "      <td>0</td>\n",
       "      <td>cellular</td>\n",
       "      <td>may</td>\n",
       "      <td>fri</td>\n",
       "      <td>...</td>\n",
       "      <td>2</td>\n",
       "      <td>999</td>\n",
       "      <td>0</td>\n",
       "      <td>nonexistent</td>\n",
       "      <td>-1.8</td>\n",
       "      <td>92.893</td>\n",
       "      <td>-46.2</td>\n",
       "      <td>1.313</td>\n",
       "      <td>5099.1</td>\n",
       "      <td>0</td>\n",
       "    </tr>\n",
       "    <tr>\n",
       "      <th>1</th>\n",
       "      <td>39</td>\n",
       "      <td>services</td>\n",
       "      <td>single</td>\n",
       "      <td>high.school</td>\n",
       "      <td>0</td>\n",
       "      <td>0</td>\n",
       "      <td>0</td>\n",
       "      <td>telephone</td>\n",
       "      <td>may</td>\n",
       "      <td>fri</td>\n",
       "      <td>...</td>\n",
       "      <td>4</td>\n",
       "      <td>999</td>\n",
       "      <td>0</td>\n",
       "      <td>nonexistent</td>\n",
       "      <td>1.1</td>\n",
       "      <td>93.994</td>\n",
       "      <td>-36.4</td>\n",
       "      <td>4.855</td>\n",
       "      <td>5191.0</td>\n",
       "      <td>0</td>\n",
       "    </tr>\n",
       "    <tr>\n",
       "      <th>2</th>\n",
       "      <td>25</td>\n",
       "      <td>services</td>\n",
       "      <td>married</td>\n",
       "      <td>high.school</td>\n",
       "      <td>0</td>\n",
       "      <td>1</td>\n",
       "      <td>0</td>\n",
       "      <td>telephone</td>\n",
       "      <td>jun</td>\n",
       "      <td>wed</td>\n",
       "      <td>...</td>\n",
       "      <td>1</td>\n",
       "      <td>999</td>\n",
       "      <td>0</td>\n",
       "      <td>nonexistent</td>\n",
       "      <td>1.4</td>\n",
       "      <td>94.465</td>\n",
       "      <td>-41.8</td>\n",
       "      <td>4.962</td>\n",
       "      <td>5228.1</td>\n",
       "      <td>0</td>\n",
       "    </tr>\n",
       "    <tr>\n",
       "      <th>3</th>\n",
       "      <td>38</td>\n",
       "      <td>services</td>\n",
       "      <td>married</td>\n",
       "      <td>Basic</td>\n",
       "      <td>0</td>\n",
       "      <td>unknown</td>\n",
       "      <td>unknown</td>\n",
       "      <td>telephone</td>\n",
       "      <td>jun</td>\n",
       "      <td>fri</td>\n",
       "      <td>...</td>\n",
       "      <td>3</td>\n",
       "      <td>999</td>\n",
       "      <td>0</td>\n",
       "      <td>nonexistent</td>\n",
       "      <td>1.4</td>\n",
       "      <td>94.465</td>\n",
       "      <td>-41.8</td>\n",
       "      <td>4.959</td>\n",
       "      <td>5228.1</td>\n",
       "      <td>0</td>\n",
       "    </tr>\n",
       "    <tr>\n",
       "      <th>4</th>\n",
       "      <td>47</td>\n",
       "      <td>admin.</td>\n",
       "      <td>married</td>\n",
       "      <td>university.degree</td>\n",
       "      <td>0</td>\n",
       "      <td>1</td>\n",
       "      <td>0</td>\n",
       "      <td>cellular</td>\n",
       "      <td>nov</td>\n",
       "      <td>mon</td>\n",
       "      <td>...</td>\n",
       "      <td>1</td>\n",
       "      <td>999</td>\n",
       "      <td>0</td>\n",
       "      <td>nonexistent</td>\n",
       "      <td>-0.1</td>\n",
       "      <td>93.200</td>\n",
       "      <td>-42.0</td>\n",
       "      <td>4.191</td>\n",
       "      <td>5195.8</td>\n",
       "      <td>0</td>\n",
       "    </tr>\n",
       "    <tr>\n",
       "      <th>...</th>\n",
       "      <td>...</td>\n",
       "      <td>...</td>\n",
       "      <td>...</td>\n",
       "      <td>...</td>\n",
       "      <td>...</td>\n",
       "      <td>...</td>\n",
       "      <td>...</td>\n",
       "      <td>...</td>\n",
       "      <td>...</td>\n",
       "      <td>...</td>\n",
       "      <td>...</td>\n",
       "      <td>...</td>\n",
       "      <td>...</td>\n",
       "      <td>...</td>\n",
       "      <td>...</td>\n",
       "      <td>...</td>\n",
       "      <td>...</td>\n",
       "      <td>...</td>\n",
       "      <td>...</td>\n",
       "      <td>...</td>\n",
       "      <td>...</td>\n",
       "    </tr>\n",
       "    <tr>\n",
       "      <th>4114</th>\n",
       "      <td>30</td>\n",
       "      <td>admin.</td>\n",
       "      <td>married</td>\n",
       "      <td>Basic</td>\n",
       "      <td>0</td>\n",
       "      <td>1</td>\n",
       "      <td>1</td>\n",
       "      <td>cellular</td>\n",
       "      <td>jul</td>\n",
       "      <td>thu</td>\n",
       "      <td>...</td>\n",
       "      <td>1</td>\n",
       "      <td>999</td>\n",
       "      <td>0</td>\n",
       "      <td>nonexistent</td>\n",
       "      <td>1.4</td>\n",
       "      <td>93.918</td>\n",
       "      <td>-42.7</td>\n",
       "      <td>4.958</td>\n",
       "      <td>5228.1</td>\n",
       "      <td>0</td>\n",
       "    </tr>\n",
       "    <tr>\n",
       "      <th>4115</th>\n",
       "      <td>39</td>\n",
       "      <td>admin.</td>\n",
       "      <td>married</td>\n",
       "      <td>high.school</td>\n",
       "      <td>0</td>\n",
       "      <td>1</td>\n",
       "      <td>0</td>\n",
       "      <td>telephone</td>\n",
       "      <td>jul</td>\n",
       "      <td>fri</td>\n",
       "      <td>...</td>\n",
       "      <td>1</td>\n",
       "      <td>999</td>\n",
       "      <td>0</td>\n",
       "      <td>nonexistent</td>\n",
       "      <td>1.4</td>\n",
       "      <td>93.918</td>\n",
       "      <td>-42.7</td>\n",
       "      <td>4.959</td>\n",
       "      <td>5228.1</td>\n",
       "      <td>0</td>\n",
       "    </tr>\n",
       "    <tr>\n",
       "      <th>4116</th>\n",
       "      <td>27</td>\n",
       "      <td>student</td>\n",
       "      <td>single</td>\n",
       "      <td>high.school</td>\n",
       "      <td>0</td>\n",
       "      <td>0</td>\n",
       "      <td>0</td>\n",
       "      <td>cellular</td>\n",
       "      <td>may</td>\n",
       "      <td>mon</td>\n",
       "      <td>...</td>\n",
       "      <td>2</td>\n",
       "      <td>999</td>\n",
       "      <td>1</td>\n",
       "      <td>failure</td>\n",
       "      <td>-1.8</td>\n",
       "      <td>92.893</td>\n",
       "      <td>-46.2</td>\n",
       "      <td>1.354</td>\n",
       "      <td>5099.1</td>\n",
       "      <td>0</td>\n",
       "    </tr>\n",
       "    <tr>\n",
       "      <th>4117</th>\n",
       "      <td>58</td>\n",
       "      <td>admin.</td>\n",
       "      <td>married</td>\n",
       "      <td>high.school</td>\n",
       "      <td>0</td>\n",
       "      <td>0</td>\n",
       "      <td>0</td>\n",
       "      <td>cellular</td>\n",
       "      <td>aug</td>\n",
       "      <td>fri</td>\n",
       "      <td>...</td>\n",
       "      <td>1</td>\n",
       "      <td>999</td>\n",
       "      <td>0</td>\n",
       "      <td>nonexistent</td>\n",
       "      <td>1.4</td>\n",
       "      <td>93.444</td>\n",
       "      <td>-36.1</td>\n",
       "      <td>4.966</td>\n",
       "      <td>5228.1</td>\n",
       "      <td>0</td>\n",
       "    </tr>\n",
       "    <tr>\n",
       "      <th>4118</th>\n",
       "      <td>34</td>\n",
       "      <td>management</td>\n",
       "      <td>single</td>\n",
       "      <td>high.school</td>\n",
       "      <td>0</td>\n",
       "      <td>1</td>\n",
       "      <td>0</td>\n",
       "      <td>cellular</td>\n",
       "      <td>nov</td>\n",
       "      <td>wed</td>\n",
       "      <td>...</td>\n",
       "      <td>1</td>\n",
       "      <td>999</td>\n",
       "      <td>0</td>\n",
       "      <td>nonexistent</td>\n",
       "      <td>-0.1</td>\n",
       "      <td>93.200</td>\n",
       "      <td>-42.0</td>\n",
       "      <td>4.120</td>\n",
       "      <td>5195.8</td>\n",
       "      <td>0</td>\n",
       "    </tr>\n",
       "  </tbody>\n",
       "</table>\n",
       "<p>4119 rows × 21 columns</p>\n",
       "</div>"
      ],
      "text/plain": [
       "      age          job  marital          education default  housing     loan  \\\n",
       "0      30  blue-collar  married              Basic       0        1        0   \n",
       "1      39     services   single        high.school       0        0        0   \n",
       "2      25     services  married        high.school       0        1        0   \n",
       "3      38     services  married              Basic       0  unknown  unknown   \n",
       "4      47       admin.  married  university.degree       0        1        0   \n",
       "...   ...          ...      ...                ...     ...      ...      ...   \n",
       "4114   30       admin.  married              Basic       0        1        1   \n",
       "4115   39       admin.  married        high.school       0        1        0   \n",
       "4116   27      student   single        high.school       0        0        0   \n",
       "4117   58       admin.  married        high.school       0        0        0   \n",
       "4118   34   management   single        high.school       0        1        0   \n",
       "\n",
       "        contact month day_of_week  ...  campaign  pdays  previous  \\\n",
       "0      cellular   may         fri  ...         2    999         0   \n",
       "1     telephone   may         fri  ...         4    999         0   \n",
       "2     telephone   jun         wed  ...         1    999         0   \n",
       "3     telephone   jun         fri  ...         3    999         0   \n",
       "4      cellular   nov         mon  ...         1    999         0   \n",
       "...         ...   ...         ...  ...       ...    ...       ...   \n",
       "4114   cellular   jul         thu  ...         1    999         0   \n",
       "4115  telephone   jul         fri  ...         1    999         0   \n",
       "4116   cellular   may         mon  ...         2    999         1   \n",
       "4117   cellular   aug         fri  ...         1    999         0   \n",
       "4118   cellular   nov         wed  ...         1    999         0   \n",
       "\n",
       "         poutcome emp.var.rate  cons.price.idx  cons.conf.idx  euribor3m  \\\n",
       "0     nonexistent         -1.8          92.893          -46.2      1.313   \n",
       "1     nonexistent          1.1          93.994          -36.4      4.855   \n",
       "2     nonexistent          1.4          94.465          -41.8      4.962   \n",
       "3     nonexistent          1.4          94.465          -41.8      4.959   \n",
       "4     nonexistent         -0.1          93.200          -42.0      4.191   \n",
       "...           ...          ...             ...            ...        ...   \n",
       "4114  nonexistent          1.4          93.918          -42.7      4.958   \n",
       "4115  nonexistent          1.4          93.918          -42.7      4.959   \n",
       "4116      failure         -1.8          92.893          -46.2      1.354   \n",
       "4117  nonexistent          1.4          93.444          -36.1      4.966   \n",
       "4118  nonexistent         -0.1          93.200          -42.0      4.120   \n",
       "\n",
       "      nr.employed  y  \n",
       "0          5099.1  0  \n",
       "1          5191.0  0  \n",
       "2          5228.1  0  \n",
       "3          5228.1  0  \n",
       "4          5195.8  0  \n",
       "...           ... ..  \n",
       "4114       5228.1  0  \n",
       "4115       5228.1  0  \n",
       "4116       5099.1  0  \n",
       "4117       5228.1  0  \n",
       "4118       5195.8  0  \n",
       "\n",
       "[4119 rows x 21 columns]"
      ]
     },
     "execution_count": 13,
     "metadata": {},
     "output_type": "execute_result"
    }
   ],
   "source": [
    "data=data.replace(to_replace=\"no\",value=\"0\")\n",
    "data=data.replace(to_replace=\"yes\",value=\"1\")\n",
    "data"
   ]
  },
  {
   "cell_type": "code",
   "execution_count": 14,
   "metadata": {
    "colab": {},
    "colab_type": "code",
    "id": "Qr_Lf5_pWmLo",
    "outputId": "6f88fa9e-0f08-46b2-b7e7-1b9132a6ce03"
   },
   "outputs": [],
   "source": [
    "### Q. Find out in the target column what is the respective count of values\n",
    "### Q. Also plot the values of y in form of a bar graph"
   ]
  },
  {
   "cell_type": "markdown",
   "metadata": {
    "colab_type": "text",
    "id": "DNLdR02KWmLr"
   },
   "source": [
    "There are 36548 no's and 4640 yes's in the outcome variables."
   ]
  },
  {
   "cell_type": "markdown",
   "metadata": {
    "colab_type": "text",
    "id": "cgdRhnM4WmLt"
   },
   "source": [
    "Let's get a sense of the numbers across the two classes"
   ]
  },
  {
   "cell_type": "code",
   "execution_count": 15,
   "metadata": {},
   "outputs": [
    {
     "data": {
      "text/plain": [
       "Text(0, 0.5, 'Frequency of Purchase')"
      ]
     },
     "execution_count": 15,
     "metadata": {},
     "output_type": "execute_result"
    },
    {
     "data": {
      "image/png": "[encoded data removed]",
      "text/plain": [
       "<Figure size 432x288 with 1 Axes>"
      ]
     },
     "metadata": {},
     "output_type": "display_data"
    }
   ],
   "source": [
    "table = pd.crosstab(data.job, data.y)\n",
    "table.columns = ['No', 'yes']\n",
    "table.plot(kind='bar')\n",
    "\n",
    "plt.grid(True)\n",
    "\n",
    "plt.title('Purchase Frequency for Job Title')\n",
    "plt.xlabel('Job')\n",
    "plt.ylabel('Frequency of Purchase')"
   ]
  },
  {
   "cell_type": "code",
   "execution_count": 16,
   "metadata": {
    "colab": {},
    "colab_type": "code",
    "id": "J5dXRHEPWmMA",
    "outputId": "56391ce2-664a-46fe-bd01-770fe2488af8"
   },
   "outputs": [],
   "source": [
    "## Create a visualization as shown below for variable 'job' and frequency of purchase"
   ]
  },
  {
   "cell_type": "markdown",
   "metadata": {
    "colab_type": "text",
    "id": "yucCp_EEWmME"
   },
   "source": [
    "The frequency of purchase of the deposit depends a great deal on the job title. Thus, the job title can be a good predictor of the outcome variable."
   ]
  },
  {
   "cell_type": "code",
   "execution_count": 17,
   "metadata": {},
   "outputs": [
    {
     "data": {
      "text/plain": [
       "Text(0, 0.5, 'Proportion of Customers')"
      ]
     },
     "execution_count": 17,
     "metadata": {},
     "output_type": "execute_result"
    },
    {
     "data": {
      "image/png": "[encoded data removed]",
      "text/plain": [
       "<Figure size 432x288 with 1 Axes>"
      ]
     },
     "metadata": {},
     "output_type": "display_data"
    }
   ],
   "source": [
    "table = pd.crosstab(data.education,data.y)\n",
    "table = table.div(table.sum(1).astype(float), axis=0)\n",
    "table.columns = ['No', 'Yes']\n",
    "# Ordering stacked bars and plot the chart\n",
    "table[['Yes', 'No']].plot(kind='bar', stacked=True)\n",
    "plt.title('Stacked Bar Chart of Education vs Purchase')\n",
    "plt.xlabel('Education')\n",
    "plt.ylabel('Proportion of Customers')"
   ]
  },
  {
   "cell_type": "code",
   "execution_count": 18,
   "metadata": {
    "colab": {},
    "colab_type": "code",
    "id": "bjlDcUYpWmMI",
    "outputId": "ded0553d-7ba8-421b-ba5a-7676bc6c1cc1"
   },
   "outputs": [],
   "source": [
    "### Create a stacked bar chart between variables 'Education','Purchase' and Proportion of Customers\n",
    "\n"
   ]
  },
  {
   "cell_type": "markdown",
   "metadata": {
    "colab_type": "text",
    "id": "tTKKadxUWmML"
   },
   "source": [
    "Education seems a good predictor of the outcome variable."
   ]
  },
  {
   "cell_type": "code",
   "execution_count": 19,
   "metadata": {},
   "outputs": [
    {
     "data": {
      "text/plain": [
       "Text(0, 0.5, 'Frequency of Purchase')"
      ]
     },
     "execution_count": 19,
     "metadata": {},
     "output_type": "execute_result"
    },
    {
     "data": {
      "image/png": "[encoded data removed]",
      "text/plain": [
       "<Figure size 432x288 with 1 Axes>"
      ]
     },
     "metadata": {},
     "output_type": "display_data"
    }
   ],
   "source": [
    "table = pd.crosstab(data.month, data.y)\n",
    "table.columns = ['No', 'yes']\n",
    "table.plot(kind='bar')\n",
    "\n",
    "plt.grid(True)\n",
    "\n",
    "plt.title('Purchase Frequency for Month')\n",
    "plt.xlabel('Month')\n",
    "plt.ylabel('Frequency of Purchase')"
   ]
  },
  {
   "cell_type": "code",
   "execution_count": 20,
   "metadata": {
    "colab": {},
    "colab_type": "code",
    "id": "NYy50lpUWmMP",
    "outputId": "16629d8a-1c1e-4757-8897-47c66b85d847"
   },
   "outputs": [],
   "source": [
    "## Q. Write code for the visualization as shown below"
   ]
  },
  {
   "cell_type": "markdown",
   "metadata": {
    "colab_type": "text",
    "id": "rLIdAOLoWmMS"
   },
   "source": [
    "Month might be a good predictor of the outcome variable"
   ]
  },
  {
   "cell_type": "code",
   "execution_count": 21,
   "metadata": {
    "colab": {},
    "colab_type": "code",
    "id": "ewGnhOIMWmMT",
    "outputId": "61740fa9-9580-4555-f52e-d50e38c258f7"
   },
   "outputs": [],
   "source": [
    "## Q. Write code for the visualization as shown below"
   ]
  },
  {
   "cell_type": "markdown",
   "metadata": {
    "colab_type": "text",
    "id": "Daib99c_WmMV"
   },
   "source": [
    "The most of the customers of the bank in this dataset are in the age range of 30-40."
   ]
  },
  {
   "cell_type": "code",
   "execution_count": 22,
   "metadata": {
    "colab": {},
    "colab_type": "code",
    "id": "fX4V1l53WmMb"
   },
   "outputs": [
    {
     "data": {
      "text/html": [
       "<div>\n",
       "<style scoped>\n",
       "    .dataframe tbody tr th:only-of-type {\n",
       "        vertical-align: middle;\n",
       "    }\n",
       "\n",
       "    .dataframe tbody tr th {\n",
       "        vertical-align: top;\n",
       "    }\n",
       "\n",
       "    .dataframe thead th {\n",
       "        text-align: right;\n",
       "    }\n",
       "</style>\n",
       "<table border=\"1\" class=\"dataframe\">\n",
       "  <thead>\n",
       "    <tr style=\"text-align: right;\">\n",
       "      <th></th>\n",
       "      <th>job</th>\n",
       "      <th>marital</th>\n",
       "      <th>education</th>\n",
       "      <th>default</th>\n",
       "      <th>housing</th>\n",
       "      <th>loan</th>\n",
       "      <th>contact</th>\n",
       "      <th>month</th>\n",
       "      <th>day_of_week</th>\n",
       "      <th>poutcome</th>\n",
       "    </tr>\n",
       "  </thead>\n",
       "  <tbody>\n",
       "    <tr>\n",
       "      <th>0</th>\n",
       "      <td>blue-collar</td>\n",
       "      <td>married</td>\n",
       "      <td>Basic</td>\n",
       "      <td>0</td>\n",
       "      <td>1</td>\n",
       "      <td>0</td>\n",
       "      <td>cellular</td>\n",
       "      <td>may</td>\n",
       "      <td>fri</td>\n",
       "      <td>nonexistent</td>\n",
       "    </tr>\n",
       "    <tr>\n",
       "      <th>1</th>\n",
       "      <td>services</td>\n",
       "      <td>single</td>\n",
       "      <td>high.school</td>\n",
       "      <td>0</td>\n",
       "      <td>0</td>\n",
       "      <td>0</td>\n",
       "      <td>telephone</td>\n",
       "      <td>may</td>\n",
       "      <td>fri</td>\n",
       "      <td>nonexistent</td>\n",
       "    </tr>\n",
       "    <tr>\n",
       "      <th>2</th>\n",
       "      <td>services</td>\n",
       "      <td>married</td>\n",
       "      <td>high.school</td>\n",
       "      <td>0</td>\n",
       "      <td>1</td>\n",
       "      <td>0</td>\n",
       "      <td>telephone</td>\n",
       "      <td>jun</td>\n",
       "      <td>wed</td>\n",
       "      <td>nonexistent</td>\n",
       "    </tr>\n",
       "    <tr>\n",
       "      <th>3</th>\n",
       "      <td>services</td>\n",
       "      <td>married</td>\n",
       "      <td>Basic</td>\n",
       "      <td>0</td>\n",
       "      <td>unknown</td>\n",
       "      <td>unknown</td>\n",
       "      <td>telephone</td>\n",
       "      <td>jun</td>\n",
       "      <td>fri</td>\n",
       "      <td>nonexistent</td>\n",
       "    </tr>\n",
       "    <tr>\n",
       "      <th>4</th>\n",
       "      <td>admin.</td>\n",
       "      <td>married</td>\n",
       "      <td>university.degree</td>\n",
       "      <td>0</td>\n",
       "      <td>1</td>\n",
       "      <td>0</td>\n",
       "      <td>cellular</td>\n",
       "      <td>nov</td>\n",
       "      <td>mon</td>\n",
       "      <td>nonexistent</td>\n",
       "    </tr>\n",
       "  </tbody>\n",
       "</table>\n",
       "</div>"
      ],
      "text/plain": [
       "           job  marital          education default  housing     loan  \\\n",
       "0  blue-collar  married              Basic       0        1        0   \n",
       "1     services   single        high.school       0        0        0   \n",
       "2     services  married        high.school       0        1        0   \n",
       "3     services  married              Basic       0  unknown  unknown   \n",
       "4       admin.  married  university.degree       0        1        0   \n",
       "\n",
       "     contact month day_of_week     poutcome  \n",
       "0   cellular   may         fri  nonexistent  \n",
       "1  telephone   may         fri  nonexistent  \n",
       "2  telephone   jun         wed  nonexistent  \n",
       "3  telephone   jun         fri  nonexistent  \n",
       "4   cellular   nov         mon  nonexistent  "
      ]
     },
     "execution_count": 22,
     "metadata": {},
     "output_type": "execute_result"
    }
   ],
   "source": [
    "## Write code to convert following columns to equivalent dummy variables\n",
    "\n",
    "cat_vars=data[['job','marital','education','default','housing','loan','contact','month','day_of_week','poutcome']]\n",
    "cat_vars.head(5)"
   ]
  },
  {
   "cell_type": "code",
   "execution_count": 23,
   "metadata": {},
   "outputs": [
    {
     "data": {
      "text/plain": [
       "(4119, 10)"
      ]
     },
     "execution_count": 23,
     "metadata": {},
     "output_type": "execute_result"
    }
   ],
   "source": [
    "cat_vars.shape"
   ]
  },
  {
   "cell_type": "markdown",
   "metadata": {},
   "source": [
    "lst = [cat_vars]\n",
    "for column in lst:\n",
    "    column.loc[column[\"month\"] == \"jan\", \"month_int\"] = 1\n",
    "    column.loc[column[\"month\"] == \"feb\", \"month_int\"] = 2\n",
    "    column.loc[column[\"month\"] == \"mar\", \"month_int\"] = 3\n",
    "    column.loc[column[\"month\"] == \"apr\", \"month_int\"] = 4\n",
    "    column.loc[column[\"month\"] == \"may\", \"month_int\"] = 5\n",
    "    column.loc[column[\"month\"] == \"jun\", \"month_int\"] = 6\n",
    "    column.loc[column[\"month\"] == \"jul\", \"month_int\"] = 7\n",
    "    column.loc[column[\"month\"] == \"aug\", \"month_int\"] = 8\n",
    "    column.loc[column[\"month\"] == \"sep\", \"month_int\"] = 9\n",
    "    column.loc[column[\"month\"] == \"oct\", \"month_int\"] = 10\n",
    "    column.loc[column[\"month\"] == \"nov\", \"month_int\"] = 11\n",
    "    column.loc[column[\"month\"] == \"dec\", \"month_int\"] = 12\n",
    "    \n",
    "#for column in lst:\n",
    "    column.loc[column[\"day_of_week\"] == \"mon\", \"month_int\"] = 1\n",
    "    column.loc[column[\"day_of_week\"] == \"tue\", \"month_int\"] = 2\n",
    "    column.loc[column[\"day_of_week\"] == \"wed\", \"month_int\"] = 3\n",
    "    column.loc[column[\"day_of_week\"] == \"thu\", \"month_int\"] = 4\n",
    "    column.loc[column[\"day_of_week\"] == \"fri\", \"month_int\"] = 5\n",
    "    column.loc[column[\"day_of_week\"] == \"sat\", \"month_int\"] = 6\n",
    "    column.loc[column[\"day_of_week\"] == \"sun\", \"month_int\"] = 7"
   ]
  },
  {
   "cell_type": "code",
   "execution_count": 24,
   "metadata": {},
   "outputs": [],
   "source": [
    "#cat_vars['poutcome'] = cat_vars['poutcome'].map({'nonexistent': 0, 'failure': 1, 'success': 2})\n",
    "#cat_vars['education'] = cat_vars['education'].map({'Basic': 0, 'high.school': 1, 'university.degree': 2, 'professional.course': 3})\n",
    "#cat_vars['martial'] = cat_vars['martial'].map({'single': 1, 'married': 2, 'divorced': 3})\n",
    "#cat_vars['contact'] = cat_vars['loan'].map({'cellular': 1, 'telephone': 0})"
   ]
  },
  {
   "cell_type": "code",
   "execution_count": 25,
   "metadata": {},
   "outputs": [
    {
     "name": "stdout",
     "output_type": "stream",
     "text": [
      "Number transactions X_train dataset:  (3295, 20)\n",
      "Number transactions y_train dataset:  (3295,)\n",
      "Number transactions X_test dataset:  (824, 20)\n",
      "Number transactions y_test dataset:  (824,)\n"
     ]
    }
   ],
   "source": [
    "# load X and y\n",
    "X = data.drop(columns=['y'])\n",
    "y = data['y']\n",
    "\n",
    "X_train, X_test, y_train, y_test = train_test_split(X, y, test_size = 0.2, random_state=0)\n",
    "\n",
    "print(\"Number transactions X_train dataset: \", X_train.shape)\n",
    "print(\"Number transactions y_train dataset: \", y_train.shape)\n",
    "print(\"Number transactions X_test dataset: \", X_test.shape)\n",
    "print(\"Number transactions y_test dataset: \", y_test.shape)"
   ]
  },
  {
   "cell_type": "code",
   "execution_count": 26,
   "metadata": {},
   "outputs": [
    {
     "name": "stdout",
     "output_type": "stream",
     "text": [
      "['age' 'duration' 'campaign' 'pdays' 'previous' 'emp.var.rate'\n",
      " 'cons.price.idx' 'cons.conf.idx' 'euribor3m' 'nr.employed']\n",
      "['job' 'marital' 'education' 'default' 'housing' 'loan' 'contact' 'month'\n",
      " 'day_of_week' 'poutcome']\n"
     ]
    }
   ],
   "source": [
    "numeric_features = X_train.select_dtypes(include=['float64', 'int64']).columns.values\n",
    "numeric_features = numeric_features[numeric_features != 'y']\n",
    "\n",
    "category_features = X_train.select_dtypes(include=['object', 'bool']).columns.values\n",
    "\n",
    "print(numeric_features)\n",
    "print(category_features)"
   ]
  },
  {
   "cell_type": "code",
   "execution_count": 27,
   "metadata": {},
   "outputs": [],
   "source": [
    "def dummify(ohe, x, columns):\n",
    "    transformed_array = ohe.transform(x)\n",
    "\n",
    "    # list of category columns\n",
    "    enc = ohe.named_transformers_['cat'].named_steps['onehot']\n",
    "    feature_lst = enc.get_feature_names(category_features.tolist())   \n",
    "    \n",
    "    cat_colnames = np.concatenate([feature_lst]).tolist()\n",
    "    all_colnames = numeric_features.tolist() + cat_colnames \n",
    "    \n",
    "    # convert numpy array to dataframe\n",
    "    data = pd.DataFrame(transformed_array, index = x.index, columns = all_colnames)\n",
    "    \n",
    "    return transformed_array, data"
   ]
  },
  {
   "cell_type": "code",
   "execution_count": 28,
   "metadata": {},
   "outputs": [],
   "source": [
    "from sklearn.pipeline import Pipeline, FeatureUnion\n",
    "\n",
    "# impute missing numerical values with a median value, then scale the values\n",
    "numeric_transformer = Pipeline(steps=[\n",
    "    ('imputer', SimpleImputer(strategy='median')),\n",
    "    ('scaler', StandardScaler())])\n",
    "\n",
    "# impute missing categorical values using the 'missing' and one hot encode the categories\n",
    "categorical_transformer = Pipeline(steps=[\n",
    "    ('imputer', SimpleImputer(strategy='constant', fill_value='missing')),\n",
    "    ('onehot', OneHotEncoder(handle_unknown='ignore'))])\n",
    "\n",
    "# Each transformer is a three-element tuple that defines \n",
    "#                                 the name of the transformer, \n",
    "#                                 the transform to apply, \n",
    "#                                 and the column features to apply it to\n",
    "preprocessor = ColumnTransformer(\n",
    "    transformers=[\n",
    "        ('num', numeric_transformer, numeric_features),\n",
    "        ('cat', categorical_transformer, category_features)])\n",
    "\n",
    "ohe = preprocessor.fit(X_train)\n",
    "\n",
    "X_train_t = ohe.transform(X_train)\n",
    "X_test_t = ohe.transform(X_test)"
   ]
  },
  {
   "cell_type": "code",
   "execution_count": 29,
   "metadata": {},
   "outputs": [
    {
     "name": "stderr",
     "output_type": "stream",
     "text": [
      "C:\\Users\\Dell\\anaconda3\\lib\\site-packages\\sklearn\\utils\\deprecation.py:87: FutureWarning: Function get_feature_names is deprecated; get_feature_names is deprecated in 1.0 and will be removed in 1.2. Please use get_feature_names_out instead.\n",
      "  warnings.warn(msg, category=FutureWarning)\n",
      "C:\\Users\\Dell\\anaconda3\\lib\\site-packages\\sklearn\\utils\\deprecation.py:87: FutureWarning: Function get_feature_names is deprecated; get_feature_names is deprecated in 1.0 and will be removed in 1.2. Please use get_feature_names_out instead.\n",
      "  warnings.warn(msg, category=FutureWarning)\n"
     ]
    },
    {
     "data": {
      "text/html": [
       "<div>\n",
       "<style scoped>\n",
       "    .dataframe tbody tr th:only-of-type {\n",
       "        vertical-align: middle;\n",
       "    }\n",
       "\n",
       "    .dataframe tbody tr th {\n",
       "        vertical-align: top;\n",
       "    }\n",
       "\n",
       "    .dataframe thead th {\n",
       "        text-align: right;\n",
       "    }\n",
       "</style>\n",
       "<table border=\"1\" class=\"dataframe\">\n",
       "  <thead>\n",
       "    <tr style=\"text-align: right;\">\n",
       "      <th></th>\n",
       "      <th>age</th>\n",
       "      <th>duration</th>\n",
       "      <th>campaign</th>\n",
       "      <th>pdays</th>\n",
       "      <th>previous</th>\n",
       "      <th>emp.var.rate</th>\n",
       "      <th>cons.price.idx</th>\n",
       "      <th>cons.conf.idx</th>\n",
       "      <th>euribor3m</th>\n",
       "      <th>nr.employed</th>\n",
       "      <th>...</th>\n",
       "      <th>month_oct</th>\n",
       "      <th>month_sep</th>\n",
       "      <th>day_of_week_fri</th>\n",
       "      <th>day_of_week_mon</th>\n",
       "      <th>day_of_week_thu</th>\n",
       "      <th>day_of_week_tue</th>\n",
       "      <th>day_of_week_wed</th>\n",
       "      <th>poutcome_failure</th>\n",
       "      <th>poutcome_nonexistent</th>\n",
       "      <th>poutcome_success</th>\n",
       "    </tr>\n",
       "  </thead>\n",
       "  <tbody>\n",
       "    <tr>\n",
       "      <th>3199</th>\n",
       "      <td>-0.977249</td>\n",
       "      <td>1.653155</td>\n",
       "      <td>-0.195607</td>\n",
       "      <td>0.204284</td>\n",
       "      <td>-0.356918</td>\n",
       "      <td>0.656694</td>\n",
       "      <td>0.724940</td>\n",
       "      <td>0.893779</td>\n",
       "      <td>0.718152</td>\n",
       "      <td>0.337601</td>\n",
       "      <td>...</td>\n",
       "      <td>0.0</td>\n",
       "      <td>0.0</td>\n",
       "      <td>0.0</td>\n",
       "      <td>0.0</td>\n",
       "      <td>0.0</td>\n",
       "      <td>1.0</td>\n",
       "      <td>0.0</td>\n",
       "      <td>0.0</td>\n",
       "      <td>1.0</td>\n",
       "      <td>0.0</td>\n",
       "    </tr>\n",
       "    <tr>\n",
       "      <th>3258</th>\n",
       "      <td>0.179962</td>\n",
       "      <td>4.089944</td>\n",
       "      <td>-0.195607</td>\n",
       "      <td>0.204284</td>\n",
       "      <td>-0.356918</td>\n",
       "      <td>0.848657</td>\n",
       "      <td>-0.225414</td>\n",
       "      <td>0.959086</td>\n",
       "      <td>0.782660</td>\n",
       "      <td>0.840066</td>\n",
       "      <td>...</td>\n",
       "      <td>0.0</td>\n",
       "      <td>0.0</td>\n",
       "      <td>0.0</td>\n",
       "      <td>0.0</td>\n",
       "      <td>0.0</td>\n",
       "      <td>1.0</td>\n",
       "      <td>0.0</td>\n",
       "      <td>0.0</td>\n",
       "      <td>1.0</td>\n",
       "      <td>0.0</td>\n",
       "    </tr>\n",
       "    <tr>\n",
       "      <th>3153</th>\n",
       "      <td>0.758567</td>\n",
       "      <td>-0.678869</td>\n",
       "      <td>-0.587892</td>\n",
       "      <td>0.204284</td>\n",
       "      <td>-0.356918</td>\n",
       "      <td>-0.111158</td>\n",
       "      <td>-0.647026</td>\n",
       "      <td>-0.325278</td>\n",
       "      <td>0.335138</td>\n",
       "      <td>0.402610</td>\n",
       "      <td>...</td>\n",
       "      <td>0.0</td>\n",
       "      <td>0.0</td>\n",
       "      <td>0.0</td>\n",
       "      <td>1.0</td>\n",
       "      <td>0.0</td>\n",
       "      <td>0.0</td>\n",
       "      <td>0.0</td>\n",
       "      <td>0.0</td>\n",
       "      <td>1.0</td>\n",
       "      <td>0.0</td>\n",
       "    </tr>\n",
       "    <tr>\n",
       "      <th>399</th>\n",
       "      <td>-0.977249</td>\n",
       "      <td>0.004053</td>\n",
       "      <td>-0.195607</td>\n",
       "      <td>0.204284</td>\n",
       "      <td>1.495123</td>\n",
       "      <td>-0.111158</td>\n",
       "      <td>-0.647026</td>\n",
       "      <td>-0.325278</td>\n",
       "      <td>0.237225</td>\n",
       "      <td>0.402610</td>\n",
       "      <td>...</td>\n",
       "      <td>0.0</td>\n",
       "      <td>0.0</td>\n",
       "      <td>1.0</td>\n",
       "      <td>0.0</td>\n",
       "      <td>0.0</td>\n",
       "      <td>0.0</td>\n",
       "      <td>0.0</td>\n",
       "      <td>1.0</td>\n",
       "      <td>0.0</td>\n",
       "      <td>0.0</td>\n",
       "    </tr>\n",
       "    <tr>\n",
       "      <th>1410</th>\n",
       "      <td>-1.170117</td>\n",
       "      <td>-0.131755</td>\n",
       "      <td>-0.587892</td>\n",
       "      <td>0.204284</td>\n",
       "      <td>-0.356918</td>\n",
       "      <td>-1.198948</td>\n",
       "      <td>-1.177496</td>\n",
       "      <td>-1.239570</td>\n",
       "      <td>-1.335146</td>\n",
       "      <td>-0.907050</td>\n",
       "      <td>...</td>\n",
       "      <td>0.0</td>\n",
       "      <td>0.0</td>\n",
       "      <td>0.0</td>\n",
       "      <td>0.0</td>\n",
       "      <td>0.0</td>\n",
       "      <td>1.0</td>\n",
       "      <td>0.0</td>\n",
       "      <td>0.0</td>\n",
       "      <td>1.0</td>\n",
       "      <td>0.0</td>\n",
       "    </tr>\n",
       "  </tbody>\n",
       "</table>\n",
       "<p>5 rows × 61 columns</p>\n",
       "</div>"
      ],
      "text/plain": [
       "           age  duration  campaign     pdays  previous  emp.var.rate  \\\n",
       "3199 -0.977249  1.653155 -0.195607  0.204284 -0.356918      0.656694   \n",
       "3258  0.179962  4.089944 -0.195607  0.204284 -0.356918      0.848657   \n",
       "3153  0.758567 -0.678869 -0.587892  0.204284 -0.356918     -0.111158   \n",
       "399  -0.977249  0.004053 -0.195607  0.204284  1.495123     -0.111158   \n",
       "1410 -1.170117 -0.131755 -0.587892  0.204284 -0.356918     -1.198948   \n",
       "\n",
       "      cons.price.idx  cons.conf.idx  euribor3m  nr.employed  ...  month_oct  \\\n",
       "3199        0.724940       0.893779   0.718152     0.337601  ...        0.0   \n",
       "3258       -0.225414       0.959086   0.782660     0.840066  ...        0.0   \n",
       "3153       -0.647026      -0.325278   0.335138     0.402610  ...        0.0   \n",
       "399        -0.647026      -0.325278   0.237225     0.402610  ...        0.0   \n",
       "1410       -1.177496      -1.239570  -1.335146    -0.907050  ...        0.0   \n",
       "\n",
       "      month_sep  day_of_week_fri  day_of_week_mon  day_of_week_thu  \\\n",
       "3199        0.0              0.0              0.0              0.0   \n",
       "3258        0.0              0.0              0.0              0.0   \n",
       "3153        0.0              0.0              1.0              0.0   \n",
       "399         0.0              1.0              0.0              0.0   \n",
       "1410        0.0              0.0              0.0              0.0   \n",
       "\n",
       "      day_of_week_tue  day_of_week_wed  poutcome_failure  \\\n",
       "3199              1.0              0.0               0.0   \n",
       "3258              1.0              0.0               0.0   \n",
       "3153              0.0              0.0               0.0   \n",
       "399               0.0              0.0               1.0   \n",
       "1410              1.0              0.0               0.0   \n",
       "\n",
       "      poutcome_nonexistent  poutcome_success  \n",
       "3199                   1.0               0.0  \n",
       "3258                   1.0               0.0  \n",
       "3153                   1.0               0.0  \n",
       "399                    0.0               0.0  \n",
       "1410                   1.0               0.0  \n",
       "\n",
       "[5 rows x 61 columns]"
      ]
     },
     "execution_count": 29,
     "metadata": {},
     "output_type": "execute_result"
    }
   ],
   "source": [
    "# transform training and test set and then convert it to dataframe\n",
    "X_train_t_array, X_train_t = dummify(ohe, X_train, category_features)\n",
    "X_test_t_array, X_test_t = dummify(ohe, X_test, category_features)\n",
    "\n",
    "X_train_t.head()"
   ]
  },
  {
   "cell_type": "code",
   "execution_count": 30,
   "metadata": {},
   "outputs": [
    {
     "name": "stdout",
     "output_type": "stream",
     "text": [
      "Index(['age', 'duration', 'campaign', 'pdays', 'previous', 'emp.var.rate',\n",
      "       'cons.price.idx', 'cons.conf.idx', 'euribor3m', 'nr.employed',\n",
      "       'job_admin.', 'job_blue-collar', 'job_entrepreneur', 'job_housemaid',\n",
      "       'job_management', 'job_retired', 'job_self-employed', 'job_services',\n",
      "       'job_student', 'job_technician', 'job_unemployed', 'job_unknown',\n",
      "       'marital_divorced', 'marital_married', 'marital_single',\n",
      "       'marital_unknown', 'education_Basic', 'education_high.school',\n",
      "       'education_illiterate', 'education_professional.course',\n",
      "       'education_university.degree', 'education_unknown', 'default_0',\n",
      "       'default_1', 'default_unknown', 'housing_0', 'housing_1',\n",
      "       'housing_unknown', 'loan_0', 'loan_1', 'loan_unknown',\n",
      "       'contact_cellular', 'contact_telephone', 'month_apr', 'month_aug',\n",
      "       'month_dec', 'month_jul', 'month_jun', 'month_mar', 'month_may',\n",
      "       'month_nov', 'month_oct', 'month_sep', 'day_of_week_fri',\n",
      "       'day_of_week_mon', 'day_of_week_thu', 'day_of_week_tue',\n",
      "       'day_of_week_wed', 'poutcome_failure', 'poutcome_nonexistent',\n",
      "       'poutcome_success'],\n",
      "      dtype='object')\n"
     ]
    }
   ],
   "source": [
    "X_train_columns = X_train_t.columns\n",
    "print(X_train_columns)"
   ]
  },
  {
   "cell_type": "code",
   "execution_count": 31,
   "metadata": {},
   "outputs": [
    {
     "name": "stdout",
     "output_type": "stream",
     "text": [
      "Counter({'0': 2920, '1': 375})\n",
      "Counter({'1': 2920, '0': 2920})\n"
     ]
    }
   ],
   "source": [
    "from imblearn.over_sampling import SMOTE\n",
    "from sklearn.compose import ColumnTransformer\n",
    "\n",
    "# summarize class distribution\n",
    "counter = Counter(y_train)\n",
    "print(counter)\n",
    "\n",
    "# transform the dataset\n",
    "oversample = SMOTE()\n",
    "X_train_smote, y_train = oversample.fit_resample(X_train_t, y_train)\n",
    "\n",
    "# summarize the new class distribution\n",
    "counter = Counter(y_train)\n",
    "print(counter)"
   ]
  },
  {
   "cell_type": "code",
   "execution_count": 32,
   "metadata": {},
   "outputs": [
    {
     "name": "stderr",
     "output_type": "stream",
     "text": [
      "C:\\Users\\Dell\\anaconda3\\lib\\site-packages\\sklearn\\utils\\validation.py:1111: DataConversionWarning: A column-vector y was passed when a 1d array was expected. Please change the shape of y to (n_samples, ), for example using ravel().\n",
      "  y = column_or_1d(y, warn=True)\n",
      "C:\\Users\\Dell\\anaconda3\\lib\\site-packages\\sklearn\\utils\\validation.py:1111: DataConversionWarning: A column-vector y was passed when a 1d array was expected. Please change the shape of y to (n_samples, ), for example using ravel().\n",
      "  y = column_or_1d(y, warn=True)\n",
      "C:\\Users\\Dell\\anaconda3\\lib\\site-packages\\sklearn\\utils\\validation.py:1111: DataConversionWarning: A column-vector y was passed when a 1d array was expected. Please change the shape of y to (n_samples, ), for example using ravel().\n",
      "  y = column_or_1d(y, warn=True)\n",
      "C:\\Users\\Dell\\anaconda3\\lib\\site-packages\\sklearn\\utils\\validation.py:1111: DataConversionWarning: A column-vector y was passed when a 1d array was expected. Please change the shape of y to (n_samples, ), for example using ravel().\n",
      "  y = column_or_1d(y, warn=True)\n",
      "C:\\Users\\Dell\\anaconda3\\lib\\site-packages\\sklearn\\utils\\validation.py:1111: DataConversionWarning: A column-vector y was passed when a 1d array was expected. Please change the shape of y to (n_samples, ), for example using ravel().\n",
      "  y = column_or_1d(y, warn=True)\n",
      "C:\\Users\\Dell\\anaconda3\\lib\\site-packages\\sklearn\\utils\\validation.py:1111: DataConversionWarning: A column-vector y was passed when a 1d array was expected. Please change the shape of y to (n_samples, ), for example using ravel().\n",
      "  y = column_or_1d(y, warn=True)\n",
      "C:\\Users\\Dell\\anaconda3\\lib\\site-packages\\sklearn\\utils\\validation.py:1111: DataConversionWarning: A column-vector y was passed when a 1d array was expected. Please change the shape of y to (n_samples, ), for example using ravel().\n",
      "  y = column_or_1d(y, warn=True)\n",
      "C:\\Users\\Dell\\anaconda3\\lib\\site-packages\\sklearn\\utils\\validation.py:1111: DataConversionWarning: A column-vector y was passed when a 1d array was expected. Please change the shape of y to (n_samples, ), for example using ravel().\n",
      "  y = column_or_1d(y, warn=True)\n",
      "C:\\Users\\Dell\\anaconda3\\lib\\site-packages\\sklearn\\utils\\validation.py:1111: DataConversionWarning: A column-vector y was passed when a 1d array was expected. Please change the shape of y to (n_samples, ), for example using ravel().\n",
      "  y = column_or_1d(y, warn=True)\n",
      "C:\\Users\\Dell\\anaconda3\\lib\\site-packages\\sklearn\\utils\\validation.py:1111: DataConversionWarning: A column-vector y was passed when a 1d array was expected. Please change the shape of y to (n_samples, ), for example using ravel().\n",
      "  y = column_or_1d(y, warn=True)\n",
      "C:\\Users\\Dell\\anaconda3\\lib\\site-packages\\sklearn\\utils\\validation.py:1111: DataConversionWarning: A column-vector y was passed when a 1d array was expected. Please change the shape of y to (n_samples, ), for example using ravel().\n",
      "  y = column_or_1d(y, warn=True)\n",
      "C:\\Users\\Dell\\anaconda3\\lib\\site-packages\\sklearn\\utils\\validation.py:1111: DataConversionWarning: A column-vector y was passed when a 1d array was expected. Please change the shape of y to (n_samples, ), for example using ravel().\n",
      "  y = column_or_1d(y, warn=True)\n",
      "C:\\Users\\Dell\\anaconda3\\lib\\site-packages\\sklearn\\utils\\validation.py:1111: DataConversionWarning: A column-vector y was passed when a 1d array was expected. Please change the shape of y to (n_samples, ), for example using ravel().\n",
      "  y = column_or_1d(y, warn=True)\n",
      "C:\\Users\\Dell\\anaconda3\\lib\\site-packages\\sklearn\\utils\\validation.py:1111: DataConversionWarning: A column-vector y was passed when a 1d array was expected. Please change the shape of y to (n_samples, ), for example using ravel().\n",
      "  y = column_or_1d(y, warn=True)\n",
      "C:\\Users\\Dell\\anaconda3\\lib\\site-packages\\sklearn\\utils\\validation.py:1111: DataConversionWarning: A column-vector y was passed when a 1d array was expected. Please change the shape of y to (n_samples, ), for example using ravel().\n",
      "  y = column_or_1d(y, warn=True)\n",
      "C:\\Users\\Dell\\anaconda3\\lib\\site-packages\\sklearn\\utils\\validation.py:1111: DataConversionWarning: A column-vector y was passed when a 1d array was expected. Please change the shape of y to (n_samples, ), for example using ravel().\n",
      "  y = column_or_1d(y, warn=True)\n",
      "C:\\Users\\Dell\\anaconda3\\lib\\site-packages\\sklearn\\utils\\validation.py:1111: DataConversionWarning: A column-vector y was passed when a 1d array was expected. Please change the shape of y to (n_samples, ), for example using ravel().\n",
      "  y = column_or_1d(y, warn=True)\n",
      "C:\\Users\\Dell\\anaconda3\\lib\\site-packages\\sklearn\\utils\\validation.py:1111: DataConversionWarning: A column-vector y was passed when a 1d array was expected. Please change the shape of y to (n_samples, ), for example using ravel().\n",
      "  y = column_or_1d(y, warn=True)\n",
      "C:\\Users\\Dell\\anaconda3\\lib\\site-packages\\sklearn\\utils\\validation.py:1111: DataConversionWarning: A column-vector y was passed when a 1d array was expected. Please change the shape of y to (n_samples, ), for example using ravel().\n",
      "  y = column_or_1d(y, warn=True)\n",
      "C:\\Users\\Dell\\anaconda3\\lib\\site-packages\\sklearn\\utils\\validation.py:1111: DataConversionWarning: A column-vector y was passed when a 1d array was expected. Please change the shape of y to (n_samples, ), for example using ravel().\n",
      "  y = column_or_1d(y, warn=True)\n",
      "C:\\Users\\Dell\\anaconda3\\lib\\site-packages\\sklearn\\utils\\validation.py:1111: DataConversionWarning: A column-vector y was passed when a 1d array was expected. Please change the shape of y to (n_samples, ), for example using ravel().\n",
      "  y = column_or_1d(y, warn=True)\n",
      "C:\\Users\\Dell\\anaconda3\\lib\\site-packages\\sklearn\\utils\\validation.py:1111: DataConversionWarning: A column-vector y was passed when a 1d array was expected. Please change the shape of y to (n_samples, ), for example using ravel().\n",
      "  y = column_or_1d(y, warn=True)\n",
      "C:\\Users\\Dell\\anaconda3\\lib\\site-packages\\sklearn\\utils\\validation.py:1111: DataConversionWarning: A column-vector y was passed when a 1d array was expected. Please change the shape of y to (n_samples, ), for example using ravel().\n",
      "  y = column_or_1d(y, warn=True)\n",
      "C:\\Users\\Dell\\anaconda3\\lib\\site-packages\\sklearn\\utils\\validation.py:1111: DataConversionWarning: A column-vector y was passed when a 1d array was expected. Please change the shape of y to (n_samples, ), for example using ravel().\n",
      "  y = column_or_1d(y, warn=True)\n",
      "C:\\Users\\Dell\\anaconda3\\lib\\site-packages\\sklearn\\utils\\validation.py:1111: DataConversionWarning: A column-vector y was passed when a 1d array was expected. Please change the shape of y to (n_samples, ), for example using ravel().\n",
      "  y = column_or_1d(y, warn=True)\n",
      "C:\\Users\\Dell\\anaconda3\\lib\\site-packages\\sklearn\\utils\\validation.py:1111: DataConversionWarning: A column-vector y was passed when a 1d array was expected. Please change the shape of y to (n_samples, ), for example using ravel().\n",
      "  y = column_or_1d(y, warn=True)\n",
      "C:\\Users\\Dell\\anaconda3\\lib\\site-packages\\sklearn\\utils\\validation.py:1111: DataConversionWarning: A column-vector y was passed when a 1d array was expected. Please change the shape of y to (n_samples, ), for example using ravel().\n",
      "  y = column_or_1d(y, warn=True)\n",
      "C:\\Users\\Dell\\anaconda3\\lib\\site-packages\\sklearn\\utils\\validation.py:1111: DataConversionWarning: A column-vector y was passed when a 1d array was expected. Please change the shape of y to (n_samples, ), for example using ravel().\n",
      "  y = column_or_1d(y, warn=True)\n",
      "C:\\Users\\Dell\\anaconda3\\lib\\site-packages\\sklearn\\utils\\validation.py:1111: DataConversionWarning: A column-vector y was passed when a 1d array was expected. Please change the shape of y to (n_samples, ), for example using ravel().\n",
      "  y = column_or_1d(y, warn=True)\n",
      "C:\\Users\\Dell\\anaconda3\\lib\\site-packages\\sklearn\\utils\\validation.py:1111: DataConversionWarning: A column-vector y was passed when a 1d array was expected. Please change the shape of y to (n_samples, ), for example using ravel().\n",
      "  y = column_or_1d(y, warn=True)\n",
      "C:\\Users\\Dell\\anaconda3\\lib\\site-packages\\sklearn\\utils\\validation.py:1111: DataConversionWarning: A column-vector y was passed when a 1d array was expected. Please change the shape of y to (n_samples, ), for example using ravel().\n",
      "  y = column_or_1d(y, warn=True)\n"
     ]
    },
    {
     "name": "stdout",
     "output_type": "stream",
     "text": [
      "[False  True  True False False  True  True  True False False False  True\n",
      "  True False  True  True  True  True  True  True  True False  True False\n",
      " False False False False False  True  True False  True False False False\n",
      " False False  True False  True  True  True  True False  True False False\n",
      "  True  True  True  True False False False False False False  True False\n",
      "  True]\n",
      "[ 3  1  1 29 22  1  1  1  7 28  2  1  1 14  1  1  1  1  1  1  1 11  1 16\n",
      " 17 10 25 24 21  1  1 20  1 32 15 30  8 19  1 23  1  1  1  1  6  1 18 13\n",
      "  1  1  1  1 12  4 31 26  5  9  1 27  1]\n"
     ]
    },
    {
     "name": "stderr",
     "output_type": "stream",
     "text": [
      "C:\\Users\\Dell\\anaconda3\\lib\\site-packages\\sklearn\\utils\\validation.py:1111: DataConversionWarning: A column-vector y was passed when a 1d array was expected. Please change the shape of y to (n_samples, ), for example using ravel().\n",
      "  y = column_or_1d(y, warn=True)\n"
     ]
    }
   ],
   "source": [
    "from sklearn.svm import SVC\n",
    "\n",
    "final_X_train = pd.DataFrame(data=X_train_smote,columns=X_train_columns )\n",
    "final_y_train = pd.DataFrame(data=y_train,columns=['y'])\n",
    "\n",
    "rfe_model = RFE(LogisticRegression(solver='lbfgs', max_iter=1000))\n",
    "rfe_model = rfe_model.fit(final_X_train, final_y_train)\n",
    "\n",
    "# feature selection\n",
    "print(rfe_model.support_)\n",
    "print(rfe_model.ranking_)"
   ]
  },
  {
   "cell_type": "code",
   "execution_count": 33,
   "metadata": {},
   "outputs": [
    {
     "name": "stdout",
     "output_type": "stream",
     "text": [
      "['duration', 'campaign', 'emp.var.rate', 'cons.price.idx', 'cons.conf.idx', 'job_blue-collar', 'job_entrepreneur', 'job_management', 'job_retired', 'job_self-employed', 'job_services', 'job_student', 'job_technician', 'job_unemployed', 'marital_divorced', 'education_professional.course', 'education_university.degree', 'default_0', 'loan_0', 'loan_unknown', 'contact_cellular', 'contact_telephone', 'month_apr', 'month_dec', 'month_mar', 'month_may', 'month_nov', 'month_oct', 'poutcome_failure', 'poutcome_success']\n"
     ]
    }
   ],
   "source": [
    "selected_columns = X_train_columns[rfe_model.support_]\n",
    "print(selected_columns.tolist())"
   ]
  },
  {
   "cell_type": "code",
   "execution_count": 34,
   "metadata": {},
   "outputs": [
    {
     "data": {
      "text/html": [
       "<div>\n",
       "<style scoped>\n",
       "    .dataframe tbody tr th:only-of-type {\n",
       "        vertical-align: middle;\n",
       "    }\n",
       "\n",
       "    .dataframe tbody tr th {\n",
       "        vertical-align: top;\n",
       "    }\n",
       "\n",
       "    .dataframe thead th {\n",
       "        text-align: right;\n",
       "    }\n",
       "</style>\n",
       "<table border=\"1\" class=\"dataframe\">\n",
       "  <thead>\n",
       "    <tr style=\"text-align: right;\">\n",
       "      <th></th>\n",
       "      <th>duration</th>\n",
       "      <th>campaign</th>\n",
       "      <th>emp.var.rate</th>\n",
       "      <th>cons.price.idx</th>\n",
       "      <th>cons.conf.idx</th>\n",
       "      <th>job_blue-collar</th>\n",
       "      <th>job_entrepreneur</th>\n",
       "      <th>job_management</th>\n",
       "      <th>job_retired</th>\n",
       "      <th>job_self-employed</th>\n",
       "      <th>...</th>\n",
       "      <th>contact_cellular</th>\n",
       "      <th>contact_telephone</th>\n",
       "      <th>month_apr</th>\n",
       "      <th>month_dec</th>\n",
       "      <th>month_mar</th>\n",
       "      <th>month_may</th>\n",
       "      <th>month_nov</th>\n",
       "      <th>month_oct</th>\n",
       "      <th>poutcome_failure</th>\n",
       "      <th>poutcome_success</th>\n",
       "    </tr>\n",
       "  </thead>\n",
       "  <tbody>\n",
       "    <tr>\n",
       "      <th>3754</th>\n",
       "      <td>-0.651707</td>\n",
       "      <td>-0.587892</td>\n",
       "      <td>0.848657</td>\n",
       "      <td>1.538789</td>\n",
       "      <td>-0.281740</td>\n",
       "      <td>1.0</td>\n",
       "      <td>0.0</td>\n",
       "      <td>0.0</td>\n",
       "      <td>0.0</td>\n",
       "      <td>0.0</td>\n",
       "      <td>...</td>\n",
       "      <td>0.0</td>\n",
       "      <td>1.0</td>\n",
       "      <td>0.0</td>\n",
       "      <td>0.0</td>\n",
       "      <td>0.0</td>\n",
       "      <td>0.0</td>\n",
       "      <td>0.0</td>\n",
       "      <td>0.0</td>\n",
       "      <td>0.0</td>\n",
       "      <td>0.0</td>\n",
       "    </tr>\n",
       "    <tr>\n",
       "      <th>45</th>\n",
       "      <td>0.601610</td>\n",
       "      <td>-0.195607</td>\n",
       "      <td>-1.198948</td>\n",
       "      <td>-1.177496</td>\n",
       "      <td>-1.239570</td>\n",
       "      <td>0.0</td>\n",
       "      <td>0.0</td>\n",
       "      <td>1.0</td>\n",
       "      <td>0.0</td>\n",
       "      <td>0.0</td>\n",
       "      <td>...</td>\n",
       "      <td>1.0</td>\n",
       "      <td>0.0</td>\n",
       "      <td>0.0</td>\n",
       "      <td>0.0</td>\n",
       "      <td>0.0</td>\n",
       "      <td>1.0</td>\n",
       "      <td>0.0</td>\n",
       "      <td>0.0</td>\n",
       "      <td>0.0</td>\n",
       "      <td>0.0</td>\n",
       "    </tr>\n",
       "    <tr>\n",
       "      <th>2774</th>\n",
       "      <td>0.589969</td>\n",
       "      <td>0.588963</td>\n",
       "      <td>0.848657</td>\n",
       "      <td>1.538789</td>\n",
       "      <td>-0.281740</td>\n",
       "      <td>0.0</td>\n",
       "      <td>0.0</td>\n",
       "      <td>0.0</td>\n",
       "      <td>0.0</td>\n",
       "      <td>0.0</td>\n",
       "      <td>...</td>\n",
       "      <td>0.0</td>\n",
       "      <td>1.0</td>\n",
       "      <td>0.0</td>\n",
       "      <td>0.0</td>\n",
       "      <td>0.0</td>\n",
       "      <td>0.0</td>\n",
       "      <td>0.0</td>\n",
       "      <td>0.0</td>\n",
       "      <td>0.0</td>\n",
       "      <td>0.0</td>\n",
       "    </tr>\n",
       "    <tr>\n",
       "      <th>1170</th>\n",
       "      <td>0.826664</td>\n",
       "      <td>-0.587892</td>\n",
       "      <td>0.848657</td>\n",
       "      <td>0.593618</td>\n",
       "      <td>-0.477660</td>\n",
       "      <td>0.0</td>\n",
       "      <td>0.0</td>\n",
       "      <td>0.0</td>\n",
       "      <td>0.0</td>\n",
       "      <td>0.0</td>\n",
       "      <td>...</td>\n",
       "      <td>1.0</td>\n",
       "      <td>0.0</td>\n",
       "      <td>0.0</td>\n",
       "      <td>0.0</td>\n",
       "      <td>0.0</td>\n",
       "      <td>0.0</td>\n",
       "      <td>0.0</td>\n",
       "      <td>0.0</td>\n",
       "      <td>0.0</td>\n",
       "      <td>0.0</td>\n",
       "    </tr>\n",
       "    <tr>\n",
       "      <th>4042</th>\n",
       "      <td>-0.046390</td>\n",
       "      <td>0.588963</td>\n",
       "      <td>-0.111158</td>\n",
       "      <td>-0.647026</td>\n",
       "      <td>-0.325278</td>\n",
       "      <td>1.0</td>\n",
       "      <td>0.0</td>\n",
       "      <td>0.0</td>\n",
       "      <td>0.0</td>\n",
       "      <td>0.0</td>\n",
       "      <td>...</td>\n",
       "      <td>1.0</td>\n",
       "      <td>0.0</td>\n",
       "      <td>0.0</td>\n",
       "      <td>0.0</td>\n",
       "      <td>0.0</td>\n",
       "      <td>0.0</td>\n",
       "      <td>1.0</td>\n",
       "      <td>0.0</td>\n",
       "      <td>0.0</td>\n",
       "      <td>0.0</td>\n",
       "    </tr>\n",
       "  </tbody>\n",
       "</table>\n",
       "<p>5 rows × 30 columns</p>\n",
       "</div>"
      ],
      "text/plain": [
       "      duration  campaign  emp.var.rate  cons.price.idx  cons.conf.idx  \\\n",
       "3754 -0.651707 -0.587892      0.848657        1.538789      -0.281740   \n",
       "45    0.601610 -0.195607     -1.198948       -1.177496      -1.239570   \n",
       "2774  0.589969  0.588963      0.848657        1.538789      -0.281740   \n",
       "1170  0.826664 -0.587892      0.848657        0.593618      -0.477660   \n",
       "4042 -0.046390  0.588963     -0.111158       -0.647026      -0.325278   \n",
       "\n",
       "      job_blue-collar  job_entrepreneur  job_management  job_retired  \\\n",
       "3754              1.0               0.0             0.0          0.0   \n",
       "45                0.0               0.0             1.0          0.0   \n",
       "2774              0.0               0.0             0.0          0.0   \n",
       "1170              0.0               0.0             0.0          0.0   \n",
       "4042              1.0               0.0             0.0          0.0   \n",
       "\n",
       "      job_self-employed  ...  contact_cellular  contact_telephone  month_apr  \\\n",
       "3754                0.0  ...               0.0                1.0        0.0   \n",
       "45                  0.0  ...               1.0                0.0        0.0   \n",
       "2774                0.0  ...               0.0                1.0        0.0   \n",
       "1170                0.0  ...               1.0                0.0        0.0   \n",
       "4042                0.0  ...               1.0                0.0        0.0   \n",
       "\n",
       "      month_dec  month_mar  month_may  month_nov  month_oct  poutcome_failure  \\\n",
       "3754        0.0        0.0        0.0        0.0        0.0               0.0   \n",
       "45          0.0        0.0        1.0        0.0        0.0               0.0   \n",
       "2774        0.0        0.0        0.0        0.0        0.0               0.0   \n",
       "1170        0.0        0.0        0.0        0.0        0.0               0.0   \n",
       "4042        0.0        0.0        0.0        1.0        0.0               0.0   \n",
       "\n",
       "      poutcome_success  \n",
       "3754               0.0  \n",
       "45                 0.0  \n",
       "2774               0.0  \n",
       "1170               0.0  \n",
       "4042               0.0  \n",
       "\n",
       "[5 rows x 30 columns]"
      ]
     },
     "execution_count": 34,
     "metadata": {},
     "output_type": "execute_result"
    }
   ],
   "source": [
    "X_train_final = final_X_train[selected_columns.tolist()]\n",
    "y_train_final = final_y_train['y']\n",
    "X_test_final = X_test_t[selected_columns.tolist()]\n",
    "y_test_final = y_test\n",
    "\n",
    "X_test_final.head()"
   ]
  },
  {
   "cell_type": "code",
   "execution_count": 35,
   "metadata": {},
   "outputs": [
    {
     "data": {
      "text/html": [
       "<style>#sk-container-id-1 {color: black;background-color: white;}#sk-container-id-1 pre{padding: 0;}#sk-container-id-1 div.sk-toggleable {background-color: white;}#sk-container-id-1 label.sk-toggleable__label {cursor: pointer;display: block;width: 100%;margin-bottom: 0;padding: 0.3em;box-sizing: border-box;text-align: center;}#sk-container-id-1 label.sk-toggleable__label-arrow:before {content: \"▸\";float: left;margin-right: 0.25em;color: #696969;}#sk-container-id-1 label.sk-toggleable__label-arrow:hover:before {color: black;}#sk-container-id-1 div.sk-estimator:hover label.sk-toggleable__label-arrow:before {color: black;}#sk-container-id-1 div.sk-toggleable__content {max-height: 0;max-width: 0;overflow: hidden;text-align: left;background-color: #f0f8ff;}#sk-container-id-1 div.sk-toggleable__content pre {margin: 0.2em;color: black;border-radius: 0.25em;background-color: #f0f8ff;}#sk-container-id-1 input.sk-toggleable__control:checked~div.sk-toggleable__content {max-height: 200px;max-width: 100%;overflow: auto;}#sk-container-id-1 input.sk-toggleable__control:checked~label.sk-toggleable__label-arrow:before {content: \"▾\";}#sk-container-id-1 div.sk-estimator input.sk-toggleable__control:checked~label.sk-toggleable__label {background-color: #d4ebff;}#sk-container-id-1 div.sk-label input.sk-toggleable__control:checked~label.sk-toggleable__label {background-color: #d4ebff;}#sk-container-id-1 input.sk-hidden--visually {border: 0;clip: rect(1px 1px 1px 1px);clip: rect(1px, 1px, 1px, 1px);height: 1px;margin: -1px;overflow: hidden;padding: 0;position: absolute;width: 1px;}#sk-container-id-1 div.sk-estimator {font-family: monospace;background-color: #f0f8ff;border: 1px dotted black;border-radius: 0.25em;box-sizing: border-box;margin-bottom: 0.5em;}#sk-container-id-1 div.sk-estimator:hover {background-color: #d4ebff;}#sk-container-id-1 div.sk-parallel-item::after {content: \"\";width: 100%;border-bottom: 1px solid gray;flex-grow: 1;}#sk-container-id-1 div.sk-label:hover label.sk-toggleable__label {background-color: #d4ebff;}#sk-container-id-1 div.sk-serial::before {content: \"\";position: absolute;border-left: 1px solid gray;box-sizing: border-box;top: 0;bottom: 0;left: 50%;z-index: 0;}#sk-container-id-1 div.sk-serial {display: flex;flex-direction: column;align-items: center;background-color: white;padding-right: 0.2em;padding-left: 0.2em;position: relative;}#sk-container-id-1 div.sk-item {position: relative;z-index: 1;}#sk-container-id-1 div.sk-parallel {display: flex;align-items: stretch;justify-content: center;background-color: white;position: relative;}#sk-container-id-1 div.sk-item::before, #sk-container-id-1 div.sk-parallel-item::before {content: \"\";position: absolute;border-left: 1px solid gray;box-sizing: border-box;top: 0;bottom: 0;left: 50%;z-index: -1;}#sk-container-id-1 div.sk-parallel-item {display: flex;flex-direction: column;z-index: 1;position: relative;background-color: white;}#sk-container-id-1 div.sk-parallel-item:first-child::after {align-self: flex-end;width: 50%;}#sk-container-id-1 div.sk-parallel-item:last-child::after {align-self: flex-start;width: 50%;}#sk-container-id-1 div.sk-parallel-item:only-child::after {width: 0;}#sk-container-id-1 div.sk-dashed-wrapped {border: 1px dashed gray;margin: 0 0.4em 0.5em 0.4em;box-sizing: border-box;padding-bottom: 0.4em;background-color: white;}#sk-container-id-1 div.sk-label label {font-family: monospace;font-weight: bold;display: inline-block;line-height: 1.2em;}#sk-container-id-1 div.sk-label-container {text-align: center;}#sk-container-id-1 div.sk-container {/* jupyter's `normalize.less` sets `[hidden] { display: none; }` but bootstrap.min.css set `[hidden] { display: none !important; }` so we also need the `!important` here to be able to override the default hidden behavior on the sphinx rendered scikit-learn.org. See: https://github.com/scikit-learn/scikit-learn/issues/21755 */display: inline-block !important;position: relative;}#sk-container-id-1 div.sk-text-repr-fallback {display: none;}</style><div id=\"sk-container-id-1\" class=\"sk-top-container\"><div class=\"sk-text-repr-fallback\"><pre>LogisticRegression()</pre><b>In a Jupyter environment, please rerun this cell to show the HTML representation or trust the notebook. <br />On GitHub, the HTML representation is unable to render, please try loading this page with nbviewer.org.</b></div><div class=\"sk-container\" hidden><div class=\"sk-item\"><div class=\"sk-estimator sk-toggleable\"><input class=\"sk-toggleable__control sk-hidden--visually\" id=\"sk-estimator-id-1\" type=\"checkbox\" checked><label for=\"sk-estimator-id-1\" class=\"sk-toggleable__label sk-toggleable__label-arrow\">LogisticRegression</label><div class=\"sk-toggleable__content\"><pre>LogisticRegression()</pre></div></div></div></div></div>"
      ],
      "text/plain": [
       "LogisticRegression()"
      ]
     },
     "execution_count": 35,
     "metadata": {},
     "output_type": "execute_result"
    }
   ],
   "source": [
    "from sklearn.linear_model import LogisticRegression\n",
    "from sklearn import metrics\n",
    "\n",
    "logreg = LogisticRegression()\n",
    "logreg.fit(X_train_final, y_train_final)"
   ]
  },
  {
   "cell_type": "code",
   "execution_count": 36,
   "metadata": {},
   "outputs": [
    {
     "name": "stdout",
     "output_type": "stream",
     "text": [
      "Accuracy of logistic regression classifier on test set: 0.85\n"
     ]
    }
   ],
   "source": [
    "y_pred = logreg.predict(X_test_final)\n",
    "print('Accuracy of logistic regression classifier on test set: {:.2f}'.format(logreg.score(X_test_final, y_test_final)))"
   ]
  },
  {
   "cell_type": "code",
   "execution_count": 37,
   "metadata": {},
   "outputs": [
    {
     "name": "stdout",
     "output_type": "stream",
     "text": [
      "              precision    recall  f1-score   support\n",
      "\n",
      "           0       0.98      0.85      0.91       748\n",
      "           1       0.36      0.80      0.50        76\n",
      "\n",
      "    accuracy                           0.85       824\n",
      "   macro avg       0.67      0.83      0.70       824\n",
      "weighted avg       0.92      0.85      0.87       824\n",
      "\n"
     ]
    }
   ],
   "source": [
    "# Classification Report\n",
    "from sklearn.metrics import classification_report\n",
    "print(classification_report(y_test_final, y_pred))"
   ]
  },
  {
   "cell_type": "code",
   "execution_count": 38,
   "metadata": {},
   "outputs": [
    {
     "name": "stdout",
     "output_type": "stream",
     "text": [
      "[[639 109]\n",
      " [ 15  61]]\n"
     ]
    },
    {
     "data": {
      "image/png": "[encoded data removed]",
      "text/plain": [
       "<Figure size 288x288 with 2 Axes>"
      ]
     },
     "metadata": {},
     "output_type": "display_data"
    }
   ],
   "source": [
    "# Confusion Matrix \n",
    "from sklearn.metrics import confusion_matrix\n",
    "import pylab as pl\n",
    "\n",
    "print(confusion_matrix(y_test_final, y_pred))\n",
    "\n",
    "cm = confusion_matrix(y_test_final, y_pred)\n",
    "pl.matshow(cm)\n",
    "pl.title('Confusion matrix of the classifier')\n",
    "pl.colorbar()\n",
    "pl.show()"
   ]
  },
  {
   "cell_type": "code",
   "execution_count": 54,
   "metadata": {},
   "outputs": [
    {
     "name": "stdout",
     "output_type": "stream",
     "text": [
      "Collecting scikit-plotNote: you may need to restart the kernel to use updated packages.\n",
      "  Downloading scikit_plot-0.3.7-py3-none-any.whl (33 kB)\n",
      "Requirement already satisfied: scikit-learn>=0.18 in c:\\users\\dell\\anaconda3\\lib\\site-packages (from scikit-plot) (1.1.2)\n",
      "Requirement already satisfied: scipy>=0.9 in c:\\users\\dell\\anaconda3\\lib\\site-packages (from scikit-plot) (1.7.1)\n",
      "Requirement already satisfied: matplotlib>=1.4.0 in c:\\users\\dell\\anaconda3\\lib\\site-packages (from scikit-plot) (3.4.3)\n",
      "Requirement already satisfied: joblib>=0.10 in c:\\users\\dell\\anaconda3\\lib\\site-packages (from scikit-plot) (1.1.0)\n",
      "Requirement already satisfied: pillow>=6.2.0 in c:\\users\\dell\\anaconda3\\lib\\site-packages (from matplotlib>=1.4.0->scikit-plot) (8.4.0)\n",
      "Requirement already satisfied: kiwisolver>=1.0.1 in c:\\users\\dell\\anaconda3\\lib\\site-packages (from matplotlib>=1.4.0->scikit-plot) (1.3.1)\n",
      "Requirement already satisfied: numpy>=1.16 in c:\\users\\dell\\anaconda3\\lib\\site-packages (from matplotlib>=1.4.0->scikit-plot) (1.20.3)\n",
      "Requirement already satisfied: cycler>=0.10 in c:\\users\\dell\\anaconda3\\lib\\site-packages (from matplotlib>=1.4.0->scikit-plot) (0.10.0)\n",
      "Requirement already satisfied: pyparsing>=2.2.1 in c:\\users\\dell\\anaconda3\\lib\\site-packages (from matplotlib>=1.4.0->scikit-plot) (3.0.4)\n",
      "Requirement already satisfied: python-dateutil>=2.7 in c:\\users\\dell\\anaconda3\\lib\\site-packages (from matplotlib>=1.4.0->scikit-plot) (2.8.2)\n",
      "Requirement already satisfied: threadpoolctl>=2.0.0 in c:\\users\\dell\\anaconda3\\lib\\site-packages (from scikit-learn>=0.18->scikit-plot) (2.2.0)\n",
      "Requirement already satisfied: six in c:\\users\\dell\\anaconda3\\lib\\site-packages (from cycler>=0.10->matplotlib>=1.4.0->scikit-plot) (1.16.0)\n",
      "Installing collected packages: scikit-plot\n",
      "Successfully installed scikit-plot-0.3.7\n",
      "\n"
     ]
    }
   ],
   "source": [
    "pip install scikit-plot"
   ]
  },
  {
   "cell_type": "code",
   "execution_count": 72,
   "metadata": {},
   "outputs": [
    {
     "name": "stdout",
     "output_type": "stream",
     "text": [
      "0.8284548269068392\n",
      "<function roc_auc_score at 0x0000011AA8D71160>\n"
     ]
    },
    {
     "data": {
      "image/png": "[encoded data removed]",
      "text/plain": [
       "<Figure size 432x288 with 1 Axes>"
      ]
     },
     "metadata": {},
     "output_type": "display_data"
    }
   ],
   "source": [
    "from sklearn.metrics import roc_curve, auc, roc_auc_score\n",
    "\n",
    "lr_over = LogisticRegression()\n",
    "lr_over.fit(X_train_final, y_train_final.ravel())\n",
    "predictions_over = lr_over.predict(X_test_final)\n",
    "\n",
    "def plotRocAuc(model, X, y):\n",
    "\n",
    "    probabilities = model.predict_proba(X)\n",
    "    probabilities = probabilities[:, 1]\n",
    "    fpr, tpr, thresholds = roc_curve(y, probabilities)\n",
    "    plt.plot([0, 1], [0, 1], linestyle='--')\n",
    "    plt.plot(fpr, tpr, marker='.')\n",
    "    plt.text(0.75, 0.25, \"AUC: \" + str(round(roc_auc_score(y, probabilities),2)))\n",
    "plt.show()\n",
    "\n",
    "# Predicting the Test set results\n",
    "y_pred = (y_pred > 0.5)\n",
    "matrix = metrics.confusion_matrix(y_test.astype(int).tolist(), y_pred.astype(int).tolist())\n",
    "\n",
    "y_pred = lr_over.predict_proba(X_test_final)[::,1]\n",
    "fpr, tpr, _ = roc_curve(y_test_final, y_pred, pos_label=1)\n",
    "auc = roc_auc_score(y_test, predictions_over)\n",
    "print(auc)\n",
    "print(roc_auc_score)\n",
    "plt.plot(fpr,tpr,label=\"LogisticRegression, auc=\"+str(auc))\n",
    "plt.legend(loc=4)\n",
    "plt.show()"
   ]
  },
  {
   "cell_type": "code",
   "execution_count": 44,
   "metadata": {},
   "outputs": [
    {
     "name": "stdout",
     "output_type": "stream",
     "text": [
      "Fold:  1, Training/Test Split Distribution: [2628 2628], Accuracy: 0.827\n",
      "\n",
      "\n",
      "Cross-Validation accuracy: 0.827 +/- 0.000\n",
      "Fold:  2, Training/Test Split Distribution: [2628 2628], Accuracy: 0.889\n",
      "\n",
      "\n",
      "Cross-Validation accuracy: 0.858 +/- 0.031\n",
      "Fold:  3, Training/Test Split Distribution: [2628 2628], Accuracy: 0.913\n",
      "\n",
      "\n",
      "Cross-Validation accuracy: 0.876 +/- 0.036\n",
      "Fold:  4, Training/Test Split Distribution: [2628 2628], Accuracy: 0.890\n",
      "\n",
      "\n",
      "Cross-Validation accuracy: 0.880 +/- 0.032\n",
      "Fold:  5, Training/Test Split Distribution: [2628 2628], Accuracy: 0.901\n",
      "\n",
      "\n",
      "Cross-Validation accuracy: 0.884 +/- 0.030\n",
      "Fold:  6, Training/Test Split Distribution: [2628 2628], Accuracy: 0.904\n",
      "\n",
      "\n",
      "Cross-Validation accuracy: 0.887 +/- 0.028\n",
      "Fold:  7, Training/Test Split Distribution: [2628 2628], Accuracy: 0.890\n",
      "\n",
      "\n",
      "Cross-Validation accuracy: 0.888 +/- 0.026\n",
      "Fold:  8, Training/Test Split Distribution: [2628 2628], Accuracy: 0.916\n",
      "\n",
      "\n",
      "Cross-Validation accuracy: 0.891 +/- 0.026\n",
      "Fold:  9, Training/Test Split Distribution: [2628 2628], Accuracy: 0.909\n",
      "\n",
      "\n",
      "Cross-Validation accuracy: 0.893 +/- 0.025\n",
      "Fold: 10, Training/Test Split Distribution: [2628 2628], Accuracy: 0.921\n",
      "\n",
      "\n",
      "Cross-Validation accuracy: 0.896 +/- 0.025\n"
     ]
    }
   ],
   "source": [
    "from sklearn.model_selection import StratifiedKFold\n",
    "from sklearn.pipeline import make_pipeline\n",
    "from sklearn.ensemble import RandomForestClassifier\n",
    "\n",
    "#\n",
    "# Create an instance of Pipeline\n",
    "#\n",
    "pipeline = make_pipeline(StandardScaler(), RandomForestClassifier(n_estimators=100, max_depth=4))\n",
    "#\n",
    "# Create an instance of StratifiedKFold which can be used to get indices of different training and test folds\n",
    "#\n",
    "strtfdKFold = StratifiedKFold(n_splits=10)\n",
    "kfold = strtfdKFold.split(X_train_final, y_train_final)\n",
    "scores = []\n",
    "#\n",
    "#\n",
    "#\n",
    "for k, (train, test) in enumerate(kfold):\n",
    "    pipeline.fit(X_train_final.iloc[train, :], y_train_final.iloc[train])\n",
    "    score = pipeline.score(X_train_final.iloc[test, :], y_train_final.iloc[test])\n",
    "    scores.append(score)\n",
    "    print('Fold: %2d, Training/Test Split Distribution: %s, Accuracy: %.3f' % (k+1, np.bincount(y_train_final.iloc[train]), score))\n",
    "    print('\\n\\nCross-Validation accuracy: %.3f +/- %.3f' %(np.mean(scores), np.std(scores)))"
   ]
  },
  {
   "cell_type": "code",
   "execution_count": 81,
   "metadata": {},
   "outputs": [
    {
     "name": "stdout",
     "output_type": "stream",
     "text": [
      "100%|█████████████████████████████████████████████| 100/100 [05:23<00:00,  3.24s/trial, best loss: -0.9138359201773836]\n",
      "Best: {'criterion': 1, 'max_depth': 12.0, 'n_estimators': 0}\n"
     ]
    }
   ],
   "source": [
    "from hyperopt import tpe, hp, fmin, STATUS_OK,Trials\n",
    "from hyperopt.pyll.base import scope\n",
    "from sklearn.model_selection import cross_val_score\n",
    "\n",
    "# standardize the feature variables \n",
    "scaler = StandardScaler()\n",
    "X_scaled = scaler.fit_transform(X_test_final)\n",
    "\n",
    "\n",
    "space = {\n",
    "    \"n_estimators\": hp.choice(\"n_estimators\", [100, 200, 300, 400,500,600]),\n",
    "    \"max_depth\": hp.quniform(\"max_depth\", 1, 15,1),\n",
    "    \"criterion\": hp.choice(\"criterion\", [\"gini\", \"entropy\"]),\n",
    "}\n",
    "                                \n",
    "# define objective function\n",
    "\n",
    "def hyperparameter_tuning(params):                      \n",
    "    clf = RandomForestClassifier(**params,n_jobs=-1)\n",
    "    acc = cross_val_score(clf, X_scaled, y_test_final,scoring=\"accuracy\").mean()\n",
    "    return {\"loss\": -acc, \"status\": STATUS_OK}\n",
    "\n",
    "# Initialize trials object\n",
    "trials = Trials()\n",
    "\n",
    "best = fmin(\n",
    "    fn=hyperparameter_tuning,\n",
    "    space = space, \n",
    "    algo=tpe.suggest, \n",
    "    max_evals=100, \n",
    "    trials=trials\n",
    ")\n",
    "\n",
    "print(\"Best: {}\".format(best))"
   ]
  },
  {
   "cell_type": "code",
   "execution_count": 82,
   "metadata": {},
   "outputs": [
    {
     "data": {
      "text/plain": [
       "[{'loss': -0.908980044345898, 'status': 'ok'},\n",
       " {'loss': -0.9065484109386549, 'status': 'ok'},\n",
       " {'loss': -0.9053436807095343, 'status': 'ok'},\n",
       " {'loss': -0.9065558019216556, 'status': 'ok'},\n",
       " {'loss': -0.9077679231337769, 'status': 'ok'},\n",
       " {'loss': -0.9053362897265338, 'status': 'ok'},\n",
       " {'loss': -0.908980044345898, 'status': 'ok'},\n",
       " {'loss': -0.9065558019216555, 'status': 'ok'},\n",
       " {'loss': -0.9041315594974131, 'status': 'ok'},\n",
       " {'loss': -0.9101921655580192, 'status': 'ok'},\n",
       " {'loss': -0.9089874353288987, 'status': 'ok'},\n",
       " {'loss': -0.9065484109386549, 'status': 'ok'},\n",
       " {'loss': -0.9065484109386549, 'status': 'ok'},\n",
       " {'loss': -0.908980044345898, 'status': 'ok'},\n",
       " {'loss': -0.9077679231337766, 'status': 'ok'},\n",
       " {'loss': -0.9101921655580192, 'status': 'ok'},\n",
       " {'loss': -0.9077679231337766, 'status': 'ok'},\n",
       " {'loss': -0.908980044345898, 'status': 'ok'},\n",
       " {'loss': -0.908980044345898, 'status': 'ok'},\n",
       " {'loss': -0.9077679231337766, 'status': 'ok'},\n",
       " {'loss': -0.9077679231337766, 'status': 'ok'},\n",
       " {'loss': -0.9101995565410199, 'status': 'ok'},\n",
       " {'loss': -0.908980044345898, 'status': 'ok'},\n",
       " {'loss': -0.9101995565410199, 'status': 'ok'},\n",
       " {'loss': -0.9089874353288987, 'status': 'ok'},\n",
       " {'loss': -0.9077679231337769, 'status': 'ok'},\n",
       " {'loss': -0.9077753141167776, 'status': 'ok'},\n",
       " {'loss': -0.908980044345898, 'status': 'ok'},\n",
       " {'loss': -0.9077679231337769, 'status': 'ok'},\n",
       " {'loss': -0.9077753141167776, 'status': 'ok'},\n",
       " {'loss': -0.9065558019216555, 'status': 'ok'},\n",
       " {'loss': -0.9101921655580192, 'status': 'ok'},\n",
       " {'loss': -0.9065558019216556, 'status': 'ok'},\n",
       " {'loss': -0.9077679231337766, 'status': 'ok'},\n",
       " {'loss': -0.908980044345898, 'status': 'ok'},\n",
       " {'loss': -0.908980044345898, 'status': 'ok'},\n",
       " {'loss': -0.9077679231337769, 'status': 'ok'},\n",
       " {'loss': -0.9077679231337769, 'status': 'ok'},\n",
       " {'loss': -0.9077605321507761, 'status': 'ok'},\n",
       " {'loss': -0.9077753141167776, 'status': 'ok'},\n",
       " {'loss': -0.9029120473022912, 'status': 'ok'},\n",
       " {'loss': -0.908980044345898, 'status': 'ok'},\n",
       " {'loss': -0.9065484109386548, 'status': 'ok'},\n",
       " {'loss': -0.908980044345898, 'status': 'ok'},\n",
       " {'loss': -0.9065631929046564, 'status': 'ok'},\n",
       " {'loss': -0.9077679231337769, 'status': 'ok'},\n",
       " {'loss': -0.9077679231337766, 'status': 'ok'},\n",
       " {'loss': -0.9114116777531412, 'status': 'ok'},\n",
       " {'loss': -0.9041389504804138, 'status': 'ok'},\n",
       " {'loss': -0.908980044345898, 'status': 'ok'},\n",
       " {'loss': -0.9077679231337766, 'status': 'ok'},\n",
       " {'loss': -0.9089874353288987, 'status': 'ok'},\n",
       " {'loss': -0.908980044345898, 'status': 'ok'},\n",
       " {'loss': -0.9077679231337766, 'status': 'ok'},\n",
       " {'loss': -0.9077605321507761, 'status': 'ok'},\n",
       " {'loss': -0.9077679231337766, 'status': 'ok'},\n",
       " {'loss': -0.9065484109386549, 'status': 'ok'},\n",
       " {'loss': -0.9077679231337769, 'status': 'ok'},\n",
       " {'loss': -0.9065558019216555, 'status': 'ok'},\n",
       " {'loss': -0.9041241685144124, 'status': 'ok'},\n",
       " {'loss': -0.9065484109386549, 'status': 'ok'},\n",
       " {'loss': -0.9089874353288987, 'status': 'ok'},\n",
       " {'loss': -0.9041241685144124, 'status': 'ok'},\n",
       " {'loss': -0.9077679231337769, 'status': 'ok'},\n",
       " {'loss': -0.908980044345898, 'status': 'ok'},\n",
       " {'loss': -0.9101921655580192, 'status': 'ok'},\n",
       " {'loss': -0.9101995565410199, 'status': 'ok'},\n",
       " {'loss': -0.9065631929046564, 'status': 'ok'},\n",
       " {'loss': -0.9077679231337769, 'status': 'ok'},\n",
       " {'loss': -0.9101921655580192, 'status': 'ok'},\n",
       " {'loss': -0.9101995565410201, 'status': 'ok'},\n",
       " {'loss': -0.9089874353288987, 'status': 'ok'},\n",
       " {'loss': -0.9089874353288987, 'status': 'ok'},\n",
       " {'loss': -0.9089874353288987, 'status': 'ok'},\n",
       " {'loss': -0.9101921655580192, 'status': 'ok'},\n",
       " {'loss': -0.9053436807095343, 'status': 'ok'},\n",
       " {'loss': -0.908980044345898, 'status': 'ok'},\n",
       " {'loss': -0.9126164079822617, 'status': 'ok'},\n",
       " {'loss': -0.9126237989652625, 'status': 'ok'},\n",
       " {'loss': -0.9089726533628972, 'status': 'ok'},\n",
       " {'loss': -0.9089874353288987, 'status': 'ok'},\n",
       " {'loss': -0.9077753141167776, 'status': 'ok'},\n",
       " {'loss': -0.9089874353288987, 'status': 'ok'},\n",
       " {'loss': -0.9053436807095343, 'status': 'ok'},\n",
       " {'loss': -0.9101921655580192, 'status': 'ok'},\n",
       " {'loss': -0.9041241685144124, 'status': 'ok'},\n",
       " {'loss': -0.9101995565410199, 'status': 'ok'},\n",
       " {'loss': -0.9089874353288987, 'status': 'ok'},\n",
       " {'loss': -0.9065558019216556, 'status': 'ok'},\n",
       " {'loss': -0.9065484109386549, 'status': 'ok'},\n",
       " {'loss': -0.908980044345898, 'status': 'ok'},\n",
       " {'loss': -0.9077679231337769, 'status': 'ok'},\n",
       " {'loss': -0.9077679231337766, 'status': 'ok'},\n",
       " {'loss': -0.9138359201773836, 'status': 'ok'},\n",
       " {'loss': -0.9077753141167776, 'status': 'ok'},\n",
       " {'loss': -0.908980044345898, 'status': 'ok'},\n",
       " {'loss': -0.9077679231337769, 'status': 'ok'},\n",
       " {'loss': -0.9053510716925353, 'status': 'ok'},\n",
       " {'loss': -0.9114042867701404, 'status': 'ok'},\n",
       " {'loss': -0.9101995565410199, 'status': 'ok'}]"
      ]
     },
     "execution_count": 82,
     "metadata": {},
     "output_type": "execute_result"
    }
   ],
   "source": [
    "trials.results"
   ]
  },
  {
   "cell_type": "code",
   "execution_count": 83,
   "metadata": {},
   "outputs": [
    {
     "data": {
      "text/plain": [
       "[-0.908980044345898,\n",
       " -0.9065484109386549,\n",
       " -0.9053436807095343,\n",
       " -0.9065558019216556,\n",
       " -0.9077679231337769,\n",
       " -0.9053362897265338,\n",
       " -0.908980044345898,\n",
       " -0.9065558019216555,\n",
       " -0.9041315594974131,\n",
       " -0.9101921655580192,\n",
       " -0.9089874353288987,\n",
       " -0.9065484109386549,\n",
       " -0.9065484109386549,\n",
       " -0.908980044345898,\n",
       " -0.9077679231337766,\n",
       " -0.9101921655580192,\n",
       " -0.9077679231337766,\n",
       " -0.908980044345898,\n",
       " -0.908980044345898,\n",
       " -0.9077679231337766,\n",
       " -0.9077679231337766,\n",
       " -0.9101995565410199,\n",
       " -0.908980044345898,\n",
       " -0.9101995565410199,\n",
       " -0.9089874353288987,\n",
       " -0.9077679231337769,\n",
       " -0.9077753141167776,\n",
       " -0.908980044345898,\n",
       " -0.9077679231337769,\n",
       " -0.9077753141167776,\n",
       " -0.9065558019216555,\n",
       " -0.9101921655580192,\n",
       " -0.9065558019216556,\n",
       " -0.9077679231337766,\n",
       " -0.908980044345898,\n",
       " -0.908980044345898,\n",
       " -0.9077679231337769,\n",
       " -0.9077679231337769,\n",
       " -0.9077605321507761,\n",
       " -0.9077753141167776,\n",
       " -0.9029120473022912,\n",
       " -0.908980044345898,\n",
       " -0.9065484109386548,\n",
       " -0.908980044345898,\n",
       " -0.9065631929046564,\n",
       " -0.9077679231337769,\n",
       " -0.9077679231337766,\n",
       " -0.9114116777531412,\n",
       " -0.9041389504804138,\n",
       " -0.908980044345898,\n",
       " -0.9077679231337766,\n",
       " -0.9089874353288987,\n",
       " -0.908980044345898,\n",
       " -0.9077679231337766,\n",
       " -0.9077605321507761,\n",
       " -0.9077679231337766,\n",
       " -0.9065484109386549,\n",
       " -0.9077679231337769,\n",
       " -0.9065558019216555,\n",
       " -0.9041241685144124,\n",
       " -0.9065484109386549,\n",
       " -0.9089874353288987,\n",
       " -0.9041241685144124,\n",
       " -0.9077679231337769,\n",
       " -0.908980044345898,\n",
       " -0.9101921655580192,\n",
       " -0.9101995565410199,\n",
       " -0.9065631929046564,\n",
       " -0.9077679231337769,\n",
       " -0.9101921655580192,\n",
       " -0.9101995565410201,\n",
       " -0.9089874353288987,\n",
       " -0.9089874353288987,\n",
       " -0.9089874353288987,\n",
       " -0.9101921655580192,\n",
       " -0.9053436807095343,\n",
       " -0.908980044345898,\n",
       " -0.9126164079822617,\n",
       " -0.9126237989652625,\n",
       " -0.9089726533628972,\n",
       " -0.9089874353288987,\n",
       " -0.9077753141167776,\n",
       " -0.9089874353288987,\n",
       " -0.9053436807095343,\n",
       " -0.9101921655580192,\n",
       " -0.9041241685144124,\n",
       " -0.9101995565410199,\n",
       " -0.9089874353288987,\n",
       " -0.9065558019216556,\n",
       " -0.9065484109386549,\n",
       " -0.908980044345898,\n",
       " -0.9077679231337769,\n",
       " -0.9077679231337766,\n",
       " -0.9138359201773836,\n",
       " -0.9077753141167776,\n",
       " -0.908980044345898,\n",
       " -0.9077679231337769,\n",
       " -0.9053510716925353,\n",
       " -0.9114042867701404,\n",
       " -0.9101995565410199]"
      ]
     },
     "execution_count": 83,
     "metadata": {},
     "output_type": "execute_result"
    }
   ],
   "source": [
    "trials.losses()"
   ]
  },
  {
   "cell_type": "code",
   "execution_count": 84,
   "metadata": {},
   "outputs": [
    {
     "data": {
      "text/plain": [
       "['ok',\n",
       " 'ok',\n",
       " 'ok',\n",
       " 'ok',\n",
       " 'ok',\n",
       " 'ok',\n",
       " 'ok',\n",
       " 'ok',\n",
       " 'ok',\n",
       " 'ok',\n",
       " 'ok',\n",
       " 'ok',\n",
       " 'ok',\n",
       " 'ok',\n",
       " 'ok',\n",
       " 'ok',\n",
       " 'ok',\n",
       " 'ok',\n",
       " 'ok',\n",
       " 'ok',\n",
       " 'ok',\n",
       " 'ok',\n",
       " 'ok',\n",
       " 'ok',\n",
       " 'ok',\n",
       " 'ok',\n",
       " 'ok',\n",
       " 'ok',\n",
       " 'ok',\n",
       " 'ok',\n",
       " 'ok',\n",
       " 'ok',\n",
       " 'ok',\n",
       " 'ok',\n",
       " 'ok',\n",
       " 'ok',\n",
       " 'ok',\n",
       " 'ok',\n",
       " 'ok',\n",
       " 'ok',\n",
       " 'ok',\n",
       " 'ok',\n",
       " 'ok',\n",
       " 'ok',\n",
       " 'ok',\n",
       " 'ok',\n",
       " 'ok',\n",
       " 'ok',\n",
       " 'ok',\n",
       " 'ok',\n",
       " 'ok',\n",
       " 'ok',\n",
       " 'ok',\n",
       " 'ok',\n",
       " 'ok',\n",
       " 'ok',\n",
       " 'ok',\n",
       " 'ok',\n",
       " 'ok',\n",
       " 'ok',\n",
       " 'ok',\n",
       " 'ok',\n",
       " 'ok',\n",
       " 'ok',\n",
       " 'ok',\n",
       " 'ok',\n",
       " 'ok',\n",
       " 'ok',\n",
       " 'ok',\n",
       " 'ok',\n",
       " 'ok',\n",
       " 'ok',\n",
       " 'ok',\n",
       " 'ok',\n",
       " 'ok',\n",
       " 'ok',\n",
       " 'ok',\n",
       " 'ok',\n",
       " 'ok',\n",
       " 'ok',\n",
       " 'ok',\n",
       " 'ok',\n",
       " 'ok',\n",
       " 'ok',\n",
       " 'ok',\n",
       " 'ok',\n",
       " 'ok',\n",
       " 'ok',\n",
       " 'ok',\n",
       " 'ok',\n",
       " 'ok',\n",
       " 'ok',\n",
       " 'ok',\n",
       " 'ok',\n",
       " 'ok',\n",
       " 'ok',\n",
       " 'ok',\n",
       " 'ok',\n",
       " 'ok',\n",
       " 'ok']"
      ]
     },
     "execution_count": 84,
     "metadata": {},
     "output_type": "execute_result"
    }
   ],
   "source": [
    "trials.statuses()"
   ]
  },
  {
   "cell_type": "code",
   "execution_count": 86,
   "metadata": {},
   "outputs": [
    {
     "name": "stdout",
     "output_type": "stream",
     "text": [
      "Collecting git+https://github.com/hyperopt/hyperopt-sklearn\n",
      "  Cloning https://github.com/hyperopt/hyperopt-sklearn to c:\\users\\dell\\appdata\\local\\temp\\pip-req-build-g_jdi5rt\n",
      "Note: you may need to restart the kernel to use updated packages.\n"
     ]
    },
    {
     "name": "stderr",
     "output_type": "stream",
     "text": [
      "  ERROR: Error [WinError 2] The system cannot find the file specified while executing command git version\n",
      "ERROR: Cannot find command 'git' - do you have 'git' installed and in your PATH?\n"
     ]
    }
   ],
   "source": [
    "pip install git+https://github.com/hyperopt/hyperopt-sklearn"
   ]
  },
  {
   "cell_type": "code",
   "execution_count": 85,
   "metadata": {},
   "outputs": [
    {
     "ename": "ModuleNotFoundError",
     "evalue": "No module named 'hpsklearn'",
     "output_type": "error",
     "traceback": [
      "\u001b[1;31m---------------------------------------------------------------------------\u001b[0m",
      "\u001b[1;31mModuleNotFoundError\u001b[0m                       Traceback (most recent call last)",
      "\u001b[1;32m~\\AppData\\Local\\Temp/ipykernel_8656/3497435494.py\u001b[0m in \u001b[0;36m<module>\u001b[1;34m\u001b[0m\n\u001b[1;32m----> 1\u001b[1;33m \u001b[1;32mfrom\u001b[0m \u001b[0mhpsklearn\u001b[0m \u001b[1;32mimport\u001b[0m \u001b[0mHyperoptEstimator\u001b[0m\u001b[1;33m,\u001b[0m \u001b[0mrandom_forest_classifier\u001b[0m\u001b[1;33m\u001b[0m\u001b[1;33m\u001b[0m\u001b[0m\n\u001b[0m\u001b[0;32m      2\u001b[0m \u001b[1;33m\u001b[0m\u001b[0m\n\u001b[0;32m      3\u001b[0m \u001b[0mclassifier\u001b[0m \u001b[1;33m=\u001b[0m \u001b[0mHyperoptEstimator\u001b[0m\u001b[1;33m(\u001b[0m\u001b[0mclassifier\u001b[0m\u001b[1;33m=\u001b[0m\u001b[0mrandom_forest_classifier\u001b[0m\u001b[1;33m(\u001b[0m\u001b[1;34m\"rf_classifier\"\u001b[0m\u001b[1;33m)\u001b[0m\u001b[1;33m)\u001b[0m\u001b[1;33m\u001b[0m\u001b[1;33m\u001b[0m\u001b[0m\n\u001b[0;32m      4\u001b[0m \u001b[0mclassifier\u001b[0m\u001b[1;33m.\u001b[0m\u001b[0mfit\u001b[0m\u001b[1;33m(\u001b[0m\u001b[0mX_scaled\u001b[0m\u001b[1;33m,\u001b[0m \u001b[0my_test_final\u001b[0m\u001b[1;33m)\u001b[0m\u001b[1;33m\u001b[0m\u001b[1;33m\u001b[0m\u001b[0m\n\u001b[0;32m      5\u001b[0m \u001b[1;33m\u001b[0m\u001b[0m\n",
      "\u001b[1;31mModuleNotFoundError\u001b[0m: No module named 'hpsklearn'"
     ]
    }
   ],
   "source": [
    "from hpsklearn import HyperoptEstimator, random_forest_classifier\n",
    "\n",
    "classifier = HyperoptEstimator(classifier=random_forest_classifier(\"rf_classifier\"))\n",
    "classifier.fit(X_scaled, y_test_final)\n",
    "\n",
    "print(classifier.best_model())\n",
    "print(classifier.score(X_scaled, y_test_final))"
   ]
  },
  {
   "cell_type": "markdown",
   "metadata": {
    "colab_type": "text",
    "id": "GjTdBzs5WmMn"
   },
   "source": [
    "### Feature Selection"
   ]
  },
  {
   "cell_type": "code",
   "execution_count": null,
   "metadata": {},
   "outputs": [],
   "source": [
    "## Find the best posible features using feature engineering techniques. "
   ]
  },
  {
   "cell_type": "code",
   "execution_count": null,
   "metadata": {},
   "outputs": [],
   "source": []
  },
  {
   "cell_type": "markdown",
   "metadata": {
    "colab_type": "text",
    "id": "p6bvSAArWmMr"
   },
   "source": [
    "For example --\n",
    "\n",
    "The Recursive Feature Elimination (RFE) has helped us select the following features: \"previous\", \"euribor3m\", \"job_blue-collar\", \"job_retired\", \"job_services\", \"job_student\", \"default_no\", \"month_aug\", \"month_dec\", \"month_jul\", \"month_nov\", \"month_oct\", \"month_sep\", \"day_of_week_fri\", \"day_of_week_wed\", \"poutcome_failure\", \"poutcome_nonexistent\", \"poutcome_success\"."
   ]
  },
  {
   "cell_type": "code",
   "execution_count": null,
   "metadata": {
    "colab": {},
    "colab_type": "code",
    "id": "HZt6ua22WmMs"
   },
   "outputs": [],
   "source": [
    "cols=[\"previous\", \"euribor3m\", \"job_blue-collar\", \"job_retired\", \"job_services\", \"job_student\", \"default_no\", \n",
    "      \"month_aug\", \"month_dec\", \"month_jul\", \"month_nov\", \"month_oct\", \"month_sep\", \"day_of_week_fri\", \"day_of_week_wed\", \n",
    "      \"poutcome_failure\", \"poutcome_nonexistent\", \"poutcome_success\"] \n",
    "X=data_final[cols]\n",
    "y=data_final['y']"
   ]
  },
  {
   "cell_type": "markdown",
   "metadata": {
    "colab_type": "text",
    "id": "IRHJymYSWmMu"
   },
   "source": [
    "### Implementing the model"
   ]
  },
  {
   "cell_type": "markdown",
   "metadata": {
    "colab_type": "text",
    "id": "MxAzuoPMWmMx"
   },
   "source": [
    "### Logistic Regression Model Fitting"
   ]
  },
  {
   "cell_type": "code",
   "execution_count": null,
   "metadata": {
    "colab": {},
    "colab_type": "code",
    "id": "jCsJgk9tWmMz",
    "outputId": "19254917-0218-48d1-9fb7-a7bae1accae8"
   },
   "outputs": [],
   "source": [
    "## Write code to implement Logistic Regression module by training the X,Y variables and perform prediction on the Test dataset."
   ]
  },
  {
   "cell_type": "markdown",
   "metadata": {
    "colab_type": "text",
    "id": "hjivmFoPWmNE"
   },
   "source": [
    "### Confusion Matrix"
   ]
  },
  {
   "cell_type": "code",
   "execution_count": null,
   "metadata": {
    "colab": {},
    "colab_type": "code",
    "id": "ds7SvDiEWmNE",
    "outputId": "e00d5b57-7423-4efe-cd7a-b964c2e7b7fa"
   },
   "outputs": [],
   "source": [
    "## Create and Analyze the confusion matrix"
   ]
  },
  {
   "cell_type": "code",
   "execution_count": null,
   "metadata": {},
   "outputs": [],
   "source": []
  },
  {
   "cell_type": "code",
   "execution_count": null,
   "metadata": {},
   "outputs": [],
   "source": []
  },
  {
   "cell_type": "markdown",
   "metadata": {},
   "source": [
    "### ROC/AUC"
   ]
  },
  {
   "cell_type": "code",
   "execution_count": null,
   "metadata": {},
   "outputs": [],
   "source": [
    "## Check for ROC and Area under the curve."
   ]
  },
  {
   "cell_type": "code",
   "execution_count": null,
   "metadata": {},
   "outputs": [],
   "source": []
  },
  {
   "cell_type": "code",
   "execution_count": null,
   "metadata": {},
   "outputs": [],
   "source": []
  },
  {
   "cell_type": "code",
   "execution_count": null,
   "metadata": {},
   "outputs": [],
   "source": [
    "## Calculate and analyze the Recall and precision"
   ]
  },
  {
   "cell_type": "code",
   "execution_count": null,
   "metadata": {},
   "outputs": [],
   "source": []
  },
  {
   "cell_type": "code",
   "execution_count": null,
   "metadata": {},
   "outputs": [],
   "source": []
  },
  {
   "cell_type": "markdown",
   "metadata": {
    "colab_type": "text",
    "id": "iAWGJjUGWmNH"
   },
   "source": [
    "### Accuracy"
   ]
  },
  {
   "cell_type": "code",
   "execution_count": null,
   "metadata": {
    "colab": {},
    "colab_type": "code",
    "id": "WHGc9KQRWmNH",
    "outputId": "41906ceb-1a6f-467a-f11d-341b9d7eca57"
   },
   "outputs": [],
   "source": [
    "## Find the accuracy of your model"
   ]
  },
  {
   "cell_type": "code",
   "execution_count": null,
   "metadata": {},
   "outputs": [],
   "source": []
  },
  {
   "cell_type": "code",
   "execution_count": null,
   "metadata": {},
   "outputs": [],
   "source": []
  },
  {
   "cell_type": "markdown",
   "metadata": {},
   "source": [
    "### Cross-validation"
   ]
  },
  {
   "cell_type": "code",
   "execution_count": null,
   "metadata": {},
   "outputs": [],
   "source": [
    "## Allow 10-fold cross validation to run on all cores."
   ]
  },
  {
   "cell_type": "code",
   "execution_count": null,
   "metadata": {},
   "outputs": [],
   "source": []
  },
  {
   "cell_type": "code",
   "execution_count": null,
   "metadata": {},
   "outputs": [],
   "source": []
  },
  {
   "cell_type": "markdown",
   "metadata": {},
   "source": [
    "### Model Tuning"
   ]
  },
  {
   "cell_type": "code",
   "execution_count": null,
   "metadata": {},
   "outputs": [],
   "source": [
    "## Tune in different attributes of the model and get better accuracy"
   ]
  },
  {
   "cell_type": "code",
   "execution_count": null,
   "metadata": {},
   "outputs": [],
   "source": []
  }
 ],
 "metadata": {
  "colab": {
   "collapsed_sections": [
    "DA2c7r2_WmNP"
   ],
   "name": "Logistic Regression in Python - Step by Step.ipynb",
   "provenance": [],
   "version": "0.3.2"
  },
  "kernelspec": {
   "display_name": "Python 3 (ipykernel)",
   "language": "python",
   "name": "python3"
  },
  "language_info": {
   "codemirror_mode": {
    "name": "ipython",
    "version": 3
   },
   "file_extension": ".py",
   "mimetype": "text/x-python",
   "name": "python",
   "nbconvert_exporter": "python",
   "pygments_lexer": "ipython3",
   "version": "3.9.7"
  }
 },
 "nbformat": 4,
 "nbformat_minor": 1
}
